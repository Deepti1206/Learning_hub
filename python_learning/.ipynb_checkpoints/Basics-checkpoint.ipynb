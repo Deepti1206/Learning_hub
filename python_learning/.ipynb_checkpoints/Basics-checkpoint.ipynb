{
 "cells": [
  {
   "cell_type": "markdown",
   "id": "6d0e28ba-1acc-445e-9304-440832025c35",
   "metadata": {},
   "source": [
    "This is a Notebook for practicing different **python** codes"
   ]
  },
  {
   "cell_type": "code",
   "execution_count": 1,
   "id": "8cb2d6c7-94e0-4e89-9050-16f2f81c7586",
   "metadata": {},
   "outputs": [
    {
     "name": "stdout",
     "output_type": "stream",
     "text": [
      "Hello, Dipti\n"
     ]
    }
   ],
   "source": [
    "# print a string saying 'Hello, Dipti'\n",
    "# When you want to write comments, you can use '#', the script \n",
    "# that starts with '#' is not considered for running command\n",
    "\n",
    "print(\"Hello, Dipti\")"
   ]
  },
  {
   "cell_type": "code",
   "execution_count": 3,
   "id": "98ba6969-2450-4467-a98f-3dcc2c44c3af",
   "metadata": {},
   "outputs": [
    {
     "name": "stdout",
     "output_type": "stream",
     "text": [
      "Hello Dipti\n"
     ]
    }
   ],
   "source": [
    "string = \"Hello Dipti\"\n",
    "print(string)"
   ]
  },
  {
   "cell_type": "code",
   "execution_count": 4,
   "id": "ac20242e-f1f6-4773-badd-33a37c3d8e24",
   "metadata": {},
   "outputs": [],
   "source": [
    "my_var = \"John\"\n",
    "\n",
    "## my var = \"John\"  # this will fetch error"
   ]
  },
  {
   "cell_type": "markdown",
   "id": "1607fd4a-f1ad-4259-979b-514dd236e7d2",
   "metadata": {},
   "source": [
    "#### **DATATYPES IN PYTHON**\n",
    "\n",
    "1. Integers (int) : 3, 100, 10\n",
    "2. Floating point (float) : 2.3, 9.0. 194.6\n",
    "3. Strings (str) : \"hello\", '4000', \"Deepti\"\n",
    "4. Lists (list) : [10, \"dips\", 3]\n",
    "5. Dictionaries (dict) : {\"key\": \"value\", \"name\", \"Deepti\"}\n",
    "6. Tuples (tup) : (10, \"hello\", 400)\n",
    "7. Sets (set) : {\"a\",\"b\"}\n",
    "8. Booleans (bool) : True or False\n",
    "\n"
   ]
  },
  {
   "cell_type": "markdown",
   "id": "897eb8a2-4a0f-4f14-a08e-7dfb720560ec",
   "metadata": {},
   "source": [
    "#### Numbers"
   ]
  },
  {
   "cell_type": "code",
   "execution_count": 5,
   "id": "0db3d793-d735-446d-a006-cb533af80ca9",
   "metadata": {},
   "outputs": [
    {
     "data": {
      "text/plain": [
       "15.3"
      ]
     },
     "execution_count": 5,
     "metadata": {},
     "output_type": "execute_result"
    }
   ],
   "source": [
    "9+6.3  # Addition"
   ]
  },
  {
   "cell_type": "code",
   "execution_count": 6,
   "id": "a668a94d-8adc-4d91-b676-8d119365b483",
   "metadata": {},
   "outputs": [
    {
     "data": {
      "text/plain": [
       "20"
      ]
     },
     "execution_count": 6,
     "metadata": {},
     "output_type": "execute_result"
    }
   ],
   "source": [
    "100-80 # Subtraction"
   ]
  },
  {
   "cell_type": "code",
   "execution_count": 7,
   "id": "e744b4b5-5515-4609-b6c9-8af1ec9ae978",
   "metadata": {},
   "outputs": [
    {
     "data": {
      "text/plain": [
       "4"
      ]
     },
     "execution_count": 7,
     "metadata": {},
     "output_type": "execute_result"
    }
   ],
   "source": [
    "2*2   # Multiplication"
   ]
  },
  {
   "cell_type": "code",
   "execution_count": 8,
   "id": "bc8534c9-bd4e-4541-b504-d6f0ce4fc3e7",
   "metadata": {},
   "outputs": [
    {
     "data": {
      "text/plain": [
       "1.5"
      ]
     },
     "execution_count": 8,
     "metadata": {},
     "output_type": "execute_result"
    }
   ],
   "source": [
    "3/2"
   ]
  },
  {
   "cell_type": "code",
   "execution_count": 9,
   "id": "cec66efe-aef8-4cfa-a4f4-8c130a759150",
   "metadata": {},
   "outputs": [
    {
     "data": {
      "text/plain": [
       "2.0"
      ]
     },
     "execution_count": 9,
     "metadata": {},
     "output_type": "execute_result"
    }
   ],
   "source": [
    "4/2  # Division"
   ]
  },
  {
   "cell_type": "code",
   "execution_count": 10,
   "id": "29067fdc-1e86-4ecc-8481-7e056029a9f5",
   "metadata": {},
   "outputs": [
    {
     "data": {
      "text/plain": [
       "0"
      ]
     },
     "execution_count": 10,
     "metadata": {},
     "output_type": "execute_result"
    }
   ],
   "source": [
    "4%2 # To know remainder, use MOD operator '%'"
   ]
  },
  {
   "cell_type": "code",
   "execution_count": 11,
   "id": "49a981cd-4a2e-48e3-9c8e-bc1c174b5b79",
   "metadata": {},
   "outputs": [
    {
     "data": {
      "text/plain": [
       "2"
      ]
     },
     "execution_count": 11,
     "metadata": {},
     "output_type": "execute_result"
    }
   ],
   "source": [
    "50%3"
   ]
  },
  {
   "cell_type": "code",
   "execution_count": 12,
   "id": "bb777024-37c3-4536-a7ca-e0fc3693940d",
   "metadata": {},
   "outputs": [
    {
     "data": {
      "text/plain": [
       "8"
      ]
     },
     "execution_count": 12,
     "metadata": {},
     "output_type": "execute_result"
    }
   ],
   "source": [
    "2**3  # Exponetial"
   ]
  },
  {
   "cell_type": "code",
   "execution_count": 13,
   "id": "7d45f153-80d8-4c6e-a519-52a0730e8944",
   "metadata": {},
   "outputs": [
    {
     "name": "stdout",
     "output_type": "stream",
     "text": [
      "28\n"
     ]
    }
   ],
   "source": [
    "print(25^5) # some logic operator"
   ]
  },
  {
   "cell_type": "markdown",
   "id": "f812fc8b-8261-4b89-9731-b67e42c726c0",
   "metadata": {},
   "source": [
    "#### Variable Assignment"
   ]
  },
  {
   "cell_type": "code",
   "execution_count": 14,
   "id": "3a73efbf-5c71-40d7-940d-5c9831e5b207",
   "metadata": {},
   "outputs": [],
   "source": [
    "my_dog = \"Caesar\""
   ]
  },
  {
   "cell_type": "code",
   "execution_count": 15,
   "id": "86c63571-2ba8-4448-b3a6-d723739049d1",
   "metadata": {},
   "outputs": [
    {
     "name": "stdout",
     "output_type": "stream",
     "text": [
      "Caesar\n"
     ]
    }
   ],
   "source": [
    "print(my_dog)"
   ]
  },
  {
   "cell_type": "code",
   "execution_count": 16,
   "id": "6753e0fa-5108-4402-88e9-f939d3668bf4",
   "metadata": {},
   "outputs": [
    {
     "data": {
      "text/plain": [
       "str"
      ]
     },
     "execution_count": 16,
     "metadata": {},
     "output_type": "execute_result"
    }
   ],
   "source": [
    "type(my_dog)"
   ]
  },
  {
   "cell_type": "code",
   "execution_count": 17,
   "id": "f00d8d00-5869-4b10-87a1-0c79aee60f05",
   "metadata": {},
   "outputs": [],
   "source": [
    "a = 2.5"
   ]
  },
  {
   "cell_type": "code",
   "execution_count": 18,
   "id": "96d72244-303a-439a-a718-8fe4f2025be5",
   "metadata": {},
   "outputs": [
    {
     "data": {
      "text/plain": [
       "float"
      ]
     },
     "execution_count": 18,
     "metadata": {},
     "output_type": "execute_result"
    }
   ],
   "source": [
    "type(a)"
   ]
  },
  {
   "cell_type": "code",
   "execution_count": 19,
   "id": "250fb18e-71ae-42ee-9369-564567d52ded",
   "metadata": {},
   "outputs": [
    {
     "name": "stdout",
     "output_type": "stream",
     "text": [
      "615.0\n"
     ]
    }
   ],
   "source": [
    "one_val = 20.5\n",
    "other_val = 30\n",
    "\n",
    "print(one_val * other_val)"
   ]
  },
  {
   "cell_type": "markdown",
   "id": "861414da-f737-46d1-8c6b-f1e726372cbe",
   "metadata": {},
   "source": [
    "#### INDEX in python\n",
    "\n",
    "Character  : h  e  l  l  o  \n",
    "Index      : 0  1  2  3  4  \n",
    "Reverse ind: 0 -4 -3 -2 -1  "
   ]
  },
  {
   "cell_type": "code",
   "execution_count": 20,
   "id": "2c255652-ea3a-451b-a733-99342169af96",
   "metadata": {},
   "outputs": [
    {
     "data": {
      "text/plain": [
       "'hello'"
      ]
     },
     "execution_count": 20,
     "metadata": {},
     "output_type": "execute_result"
    }
   ],
   "source": [
    "# Using single quotation\n",
    "\n",
    "'hello'"
   ]
  },
  {
   "cell_type": "code",
   "execution_count": 21,
   "id": "4bdac73f-ad28-42b4-b0b1-964f9788c206",
   "metadata": {},
   "outputs": [
    {
     "name": "stdout",
     "output_type": "stream",
     "text": [
      "hello\n"
     ]
    }
   ],
   "source": [
    "print('hello')"
   ]
  },
  {
   "cell_type": "code",
   "execution_count": 22,
   "id": "8ee0dff8-a1c3-4d1b-b98a-258184afc271",
   "metadata": {},
   "outputs": [
    {
     "data": {
      "text/plain": [
       "\"I'm going to DC\""
      ]
     },
     "execution_count": 22,
     "metadata": {},
     "output_type": "execute_result"
    }
   ],
   "source": [
    "# Using double quotation when you need to use single quotation in sentence\n",
    "\n",
    "\"I'm going to DC\""
   ]
  },
  {
   "cell_type": "code",
   "execution_count": 23,
   "id": "5c3ebbbb-c4e3-433c-af25-40598bf2adc6",
   "metadata": {},
   "outputs": [
    {
     "data": {
      "text/plain": [
       "'I love dogs'"
      ]
     },
     "execution_count": 23,
     "metadata": {},
     "output_type": "execute_result"
    }
   ],
   "source": [
    "# If you write two sentences, the output will be only the last one\n",
    "\n",
    "'Hi, I am Deepti'\n",
    "'I love dogs'"
   ]
  },
  {
   "cell_type": "code",
   "execution_count": 24,
   "id": "2180cac7-ca6c-4c37-af3f-963c74385ea2",
   "metadata": {},
   "outputs": [
    {
     "name": "stdout",
     "output_type": "stream",
     "text": [
      "Hi, I am Deepti\n",
      "I love dogs\n"
     ]
    }
   ],
   "source": [
    "# If you want to include full sentences, you need to use 'print'\n",
    "\n",
    "print('Hi, I am Deepti')\n",
    "print('I love dogs')\n"
   ]
  },
  {
   "cell_type": "code",
   "execution_count": 25,
   "id": "a22ddcc5-ddcc-4cf3-a62a-6b4deb182e85",
   "metadata": {},
   "outputs": [
    {
     "name": "stdout",
     "output_type": "stream",
     "text": [
      "Hi, \n",
      "I'm Deepti\n"
     ]
    }
   ],
   "source": [
    "# Escape sequence (\\n): If you want to print in different lines\n",
    "\n",
    "print(\"Hi, \\nI'm Deepti\")"
   ]
  },
  {
   "cell_type": "code",
   "execution_count": 26,
   "id": "91f87401-1955-45be-8289-e72e9c619550",
   "metadata": {},
   "outputs": [
    {
     "name": "stdout",
     "output_type": "stream",
     "text": [
      "5\n",
      "10\n"
     ]
    }
   ],
   "source": [
    "# Check the length of string\n",
    "\n",
    "print(len(\"Hello\"))\n",
    "print(len(\"I'm Deepti\"))  #counts the spaces as well"
   ]
  },
  {
   "cell_type": "markdown",
   "id": "2701ea01-e072-4bc4-8b37-20fe1ebe3233",
   "metadata": {},
   "source": [
    "#### String Indexing"
   ]
  },
  {
   "cell_type": "code",
   "execution_count": 27,
   "id": "70942946-9b98-4589-8dfb-936d4f56aa58",
   "metadata": {},
   "outputs": [],
   "source": [
    "string = \"Hello World\""
   ]
  },
  {
   "cell_type": "code",
   "execution_count": 28,
   "id": "720bf7e6-34c2-4af8-8240-fa97a6827233",
   "metadata": {},
   "outputs": [
    {
     "data": {
      "text/plain": [
       "'e'"
      ]
     },
     "execution_count": 28,
     "metadata": {},
     "output_type": "execute_result"
    }
   ],
   "source": [
    "# Let's day I want to grab the second character from string. I can do that by specifying index position\n",
    "# Remember that the positive index starrts from '0' and negative index from '-1'\n",
    "\n",
    "# Extract 'e' from string\n",
    "\n",
    "string[1]"
   ]
  },
  {
   "cell_type": "code",
   "execution_count": 29,
   "id": "793aaf1b-2a17-4aa2-9919-6014ad9d54c6",
   "metadata": {},
   "outputs": [
    {
     "data": {
      "text/plain": [
       "'W'"
      ]
     },
     "execution_count": 29,
     "metadata": {},
     "output_type": "execute_result"
    }
   ],
   "source": [
    "# Extract 'W' from string\n",
    "\n",
    "string[-5]"
   ]
  },
  {
   "cell_type": "markdown",
   "id": "2c8010ad-3163-4bea-aa40-40265b43d6d1",
   "metadata": {},
   "source": [
    "#### String Slicing"
   ]
  },
  {
   "cell_type": "code",
   "execution_count": 30,
   "id": "8ff90d68-e961-4249-9cdb-708d07140b1a",
   "metadata": {},
   "outputs": [
    {
     "data": {
      "text/plain": [
       "'Hello'"
      ]
     },
     "execution_count": 30,
     "metadata": {},
     "output_type": "execute_result"
    }
   ],
   "source": [
    "my_string = \"Hello World, I'm Deepti!\"\n",
    "\n",
    "# Extract \"Hello\" from string. There are two ways: \n",
    "\n",
    "#1. Specify [0:5] - that will extract all letters till 5th position and doesn't include 5th position (stop index). Remember to count from '0'\n",
    "#2. Specify [:5] - That will also do the same. Remember that it cosiders the mentioned index position\n",
    "\n",
    "my_string[:5]"
   ]
  },
  {
   "cell_type": "code",
   "execution_count": 31,
   "id": "5a23114e-fd7c-4fe4-881e-e72a01990a3b",
   "metadata": {},
   "outputs": [
    {
     "data": {
      "text/plain": [
       "\"I'm Deepti!\""
      ]
     },
     "execution_count": 31,
     "metadata": {},
     "output_type": "execute_result"
    }
   ],
   "source": [
    "# Extract \"I'm Deepti!\"\n",
    "\n",
    "# When you are using colon after the index number, that letters will incude the start index position and all later\n",
    "\n",
    "my_string[13:]"
   ]
  },
  {
   "cell_type": "code",
   "execution_count": 32,
   "id": "0ca77955-fe06-4cec-a503-dc5ad83b6896",
   "metadata": {},
   "outputs": [
    {
     "data": {
      "text/plain": [
       "'World'"
      ]
     },
     "execution_count": 32,
     "metadata": {},
     "output_type": "execute_result"
    }
   ],
   "source": [
    "# Extract \"World\"\n",
    "\n",
    "# In this we want 'W' to be first one, therefore we will incude start index 'W' and the stop index as 'd' as it is considered before 11th positiom\n",
    "\n",
    "my_string[6:11]"
   ]
  },
  {
   "cell_type": "code",
   "execution_count": 33,
   "id": "2f4ffafb-fd12-4ffe-8936-877186ec2ca6",
   "metadata": {},
   "outputs": [
    {
     "data": {
      "text/plain": [
       "\"Hello World, I'm Deepti!\""
      ]
     },
     "execution_count": 33,
     "metadata": {},
     "output_type": "execute_result"
    }
   ],
   "source": [
    "# An alternative method o grab everyting in the string - step size\n",
    "\n",
    "# Now this is printing every letters in step H e l l o....\n",
    "\n",
    "my_string[::]"
   ]
  },
  {
   "cell_type": "code",
   "execution_count": 34,
   "id": "f6e1a357-3172-4f5e-954e-b7e6ec84deb3",
   "metadata": {},
   "outputs": [
    {
     "data": {
      "text/plain": [
       "\"HloWrd ' epi\""
      ]
     },
     "execution_count": 34,
     "metadata": {},
     "output_type": "execute_result"
    }
   ],
   "source": [
    "# What if I want to print evry 2 letter in a sequence\n",
    "\n",
    "my_string[::2]"
   ]
  },
  {
   "cell_type": "code",
   "execution_count": 35,
   "id": "768a446e-a832-4416-bf81-5137ac051d43",
   "metadata": {},
   "outputs": [
    {
     "data": {
      "text/plain": [
       "'H dmp'"
      ]
     },
     "execution_count": 35,
     "metadata": {},
     "output_type": "execute_result"
    }
   ],
   "source": [
    "my_string[::5]"
   ]
  },
  {
   "cell_type": "code",
   "execution_count": 36,
   "id": "5339010b-7128-45eb-8303-d3d0c7ab02a1",
   "metadata": {},
   "outputs": [
    {
     "data": {
      "text/plain": [
       "'ceg'"
      ]
     },
     "execution_count": 36,
     "metadata": {},
     "output_type": "execute_result"
    }
   ],
   "source": [
    "# You can also do this =>\n",
    "# [start index : stop index : step size]\n",
    "\n",
    "string2 = \"abcdefghijklm\"\n",
    "\n",
    "string2[2:7:2]"
   ]
  },
  {
   "cell_type": "code",
   "execution_count": 37,
   "id": "0c582fcf-1c38-4f77-a7ba-686387a57d6d",
   "metadata": {},
   "outputs": [],
   "source": [
    "# The operation is performed as follows:\n",
    "\n",
    "# 1. It will first print the letter from start index 2 to stop index 7 = 'cdefg'\n",
    "# 2. I t will perform step function i.e +2 on cdefg = ceg"
   ]
  },
  {
   "cell_type": "code",
   "execution_count": 38,
   "id": "80ecaa1d-6fb0-4c70-9dfa-132722a00683",
   "metadata": {},
   "outputs": [
    {
     "data": {
      "text/plain": [
       "\"!itpeeD m'I ,dlroW olleH\""
      ]
     },
     "execution_count": 38,
     "metadata": {},
     "output_type": "execute_result"
    }
   ],
   "source": [
    "my_string[::-1]"
   ]
  },
  {
   "cell_type": "markdown",
   "id": "7e1662be-cdde-4561-aca6-7753a3210b74",
   "metadata": {},
   "source": [
    "##### Example:"
   ]
  },
  {
   "cell_type": "code",
   "execution_count": null,
   "id": "ccfa4261-078f-4dd1-947d-a16fe2c24dc6",
   "metadata": {},
   "outputs": [],
   "source": [
    "input = \"Hello World , I Am Here\"  # output = \"Here Am I, World Hello\""
   ]
  },
  {
   "cell_type": "code",
   "execution_count": 35,
   "id": "cf0d13ce-4072-416e-88e8-f81d8dec9fc8",
   "metadata": {},
   "outputs": [
    {
     "name": "stdout",
     "output_type": "stream",
     "text": [
      "Hello World , I Am Here\n"
     ]
    }
   ],
   "source": [
    "print(input)"
   ]
  },
  {
   "cell_type": "code",
   "execution_count": 36,
   "id": "b89d386e-1ee7-401d-a4f8-cb5184faf740",
   "metadata": {},
   "outputs": [],
   "source": [
    "output = input.split()"
   ]
  },
  {
   "cell_type": "code",
   "execution_count": 37,
   "id": "b5e78840-356b-442c-a33b-1b0f4d38c40b",
   "metadata": {},
   "outputs": [
    {
     "name": "stdout",
     "output_type": "stream",
     "text": [
      "['Hello', 'World', ',', 'I', 'Am', 'Here']\n"
     ]
    }
   ],
   "source": [
    "print(output)"
   ]
  },
  {
   "cell_type": "code",
   "execution_count": 38,
   "id": "88ba63d7-6f90-43b3-b70d-66f4c39f9ae3",
   "metadata": {},
   "outputs": [
    {
     "data": {
      "text/plain": [
       "['Here', 'Am', 'I', ',', 'World', 'Hello']"
      ]
     },
     "execution_count": 38,
     "metadata": {},
     "output_type": "execute_result"
    }
   ],
   "source": [
    "output[::-1]"
   ]
  },
  {
   "cell_type": "code",
   "execution_count": 40,
   "id": "faf3eb1d-c9d2-448a-8131-d78615bfd78a",
   "metadata": {},
   "outputs": [],
   "source": [
    "output = \" \".join(output[::-1])"
   ]
  },
  {
   "cell_type": "code",
   "execution_count": 52,
   "id": "d5a76153-36b5-40f5-a463-7ec2776f4639",
   "metadata": {},
   "outputs": [
    {
     "name": "stdout",
     "output_type": "stream",
     "text": [
      "['Here Am I , World Hello']\n"
     ]
    }
   ],
   "source": [
    "print(output)"
   ]
  },
  {
   "cell_type": "markdown",
   "id": "4e9ba54e-f61c-4036-86c2-aac4747dc74b",
   "metadata": {},
   "source": [
    "#### Immutability in string"
   ]
  },
  {
   "cell_type": "code",
   "execution_count": 39,
   "id": "91cf96c5-640e-44c8-94de-696eb0029b15",
   "metadata": {},
   "outputs": [],
   "source": [
    "# Let's say I want to replace 'beer' with 'deer' by just changing first letter.\n",
    "# Since strings are immutable meaning that they cannot be edited, you have to use concatenation\n",
    "\n",
    "a = 'beer'"
   ]
  },
  {
   "cell_type": "code",
   "execution_count": 40,
   "id": "69fa2bf4-94fb-4f0e-ae8d-d0d73c197dcc",
   "metadata": {},
   "outputs": [
    {
     "data": {
      "text/plain": [
       "'eer'"
      ]
     },
     "execution_count": 40,
     "metadata": {},
     "output_type": "execute_result"
    }
   ],
   "source": [
    "b = a[1:]\n",
    "b"
   ]
  },
  {
   "cell_type": "code",
   "execution_count": 41,
   "id": "c9e625eb-b745-4dc5-9392-642e98b00e13",
   "metadata": {},
   "outputs": [
    {
     "data": {
      "text/plain": [
       "'deer'"
      ]
     },
     "execution_count": 41,
     "metadata": {},
     "output_type": "execute_result"
    }
   ],
   "source": [
    "c = 'd'+b\n",
    "c"
   ]
  },
  {
   "cell_type": "code",
   "execution_count": 42,
   "id": "4ae78556-426d-4c9a-bc08-bb76ce8377e8",
   "metadata": {},
   "outputs": [
    {
     "data": {
      "text/plain": [
       "'200100'"
      ]
     },
     "execution_count": 42,
     "metadata": {},
     "output_type": "execute_result"
    }
   ],
   "source": [
    "# Another example would be. Creating a number in the form of string\n",
    "\n",
    "'200' + '100'    # This is not equal to 300 as it is a string"
   ]
  },
  {
   "cell_type": "code",
   "execution_count": 43,
   "id": "e4124770-19a3-472a-b834-c3c95304cb1f",
   "metadata": {},
   "outputs": [
    {
     "data": {
      "text/plain": [
       "'BEER'"
      ]
     },
     "execution_count": 43,
     "metadata": {},
     "output_type": "execute_result"
    }
   ],
   "source": [
    "a.upper()"
   ]
  },
  {
   "cell_type": "code",
   "execution_count": 44,
   "id": "6ea4fed5-ec80-4502-ab55-00daa8642d8e",
   "metadata": {},
   "outputs": [
    {
     "data": {
      "text/plain": [
       "['Hello', 'World,', \"I'm\", 'Deepti!']"
      ]
     },
     "execution_count": 44,
     "metadata": {},
     "output_type": "execute_result"
    }
   ],
   "source": [
    "my_string.split()    # splits based on spaces"
   ]
  },
  {
   "cell_type": "code",
   "execution_count": 45,
   "id": "3c0e62d2-c190-42b0-a22f-4b6a2c53d2c8",
   "metadata": {},
   "outputs": [
    {
     "data": {
      "text/plain": [
       "['Hello World, I', 'm Deepti!']"
      ]
     },
     "execution_count": 45,
     "metadata": {},
     "output_type": "execute_result"
    }
   ],
   "source": [
    "my_string.split(\"'\")"
   ]
  },
  {
   "cell_type": "markdown",
   "id": "8e2550e3-972f-4b3f-856b-31fea27fea20",
   "metadata": {},
   "source": [
    "#### Print Formatting with Strings"
   ]
  },
  {
   "cell_type": "markdown",
   "id": "46eb7dfd-8444-4825-ab3a-db9105e38052",
   "metadata": {},
   "source": [
    "#### .format() method"
   ]
  },
  {
   "cell_type": "code",
   "execution_count": 46,
   "id": "20b6fe75-63c3-4d6d-91c6-bd6e63f2d951",
   "metadata": {},
   "outputs": [
    {
     "name": "stdout",
     "output_type": "stream",
     "text": [
      "The roses are red\n"
     ]
    }
   ],
   "source": [
    "# The formatting is used to concatenate parts of a string at desired intervals through point data format\n",
    "# We use {} to fill any data formats\n",
    "\n",
    "print('The roses are {}'.format('red'))"
   ]
  },
  {
   "cell_type": "code",
   "execution_count": 47,
   "id": "607fb0c6-9962-43ac-b5c1-9c68b8a1a237",
   "metadata": {},
   "outputs": [
    {
     "name": "stdout",
     "output_type": "stream",
     "text": [
      "The roses are red, pink, yellow\n"
     ]
    }
   ],
   "source": [
    "print('The roses are {}, {}, {}'.format('red','pink','yellow'))"
   ]
  },
  {
   "cell_type": "code",
   "execution_count": 48,
   "id": "bbbfc6e0-7aa2-46d7-8049-d88daad31521",
   "metadata": {},
   "outputs": [
    {
     "name": "stdout",
     "output_type": "stream",
     "text": [
      "The roses are red, red, red\n"
     ]
    }
   ],
   "source": [
    "print('The roses are {0}, {0}, {0}'.format('red','pink','yellow'))"
   ]
  },
  {
   "cell_type": "code",
   "execution_count": 49,
   "id": "55702b41-d719-4be0-ac63-97d7cfbd20fc",
   "metadata": {},
   "outputs": [
    {
     "name": "stdout",
     "output_type": "stream",
     "text": [
      "The roses are yellow, red, pink\n"
     ]
    }
   ],
   "source": [
    "print('The roses are {2}, {0}, {1}'.format('red','pink','yellow'))"
   ]
  },
  {
   "cell_type": "code",
   "execution_count": 50,
   "id": "a2914e56-c9fd-4ee0-8234-b2bb95660df3",
   "metadata": {},
   "outputs": [
    {
     "name": "stdout",
     "output_type": "stream",
     "text": [
      "The roses are red, pink, yellow\n"
     ]
    }
   ],
   "source": [
    "print('The roses are {r}, {p}, {y}'.format(r='red',p='pink',y='yellow'))   #specifying using variable assignment, better than index position"
   ]
  },
  {
   "cell_type": "markdown",
   "id": "096ca466-a00d-40e0-80ac-87787b8c3a40",
   "metadata": {},
   "source": [
    "#### float .format() method"
   ]
  },
  {
   "cell_type": "code",
   "execution_count": 51,
   "id": "cf2cee7c-3d27-43ec-9e3a-e956c20f180d",
   "metadata": {},
   "outputs": [],
   "source": [
    "result = 100/777"
   ]
  },
  {
   "cell_type": "code",
   "execution_count": 52,
   "id": "00a91000-ad95-4f05-b482-0edd0d87159a",
   "metadata": {},
   "outputs": [
    {
     "data": {
      "text/plain": [
       "0.1287001287001287"
      ]
     },
     "execution_count": 52,
     "metadata": {},
     "output_type": "execute_result"
    }
   ],
   "source": [
    "result"
   ]
  },
  {
   "cell_type": "code",
   "execution_count": 53,
   "id": "5798111f-6bb3-46d7-8637-bedd8009a24c",
   "metadata": {},
   "outputs": [
    {
     "name": "stdout",
     "output_type": "stream",
     "text": [
      "The result was 0.1287001287001287\n"
     ]
    }
   ],
   "source": [
    "print(\"The result was {r}\".format(r=result))"
   ]
  },
  {
   "cell_type": "code",
   "execution_count": 54,
   "id": "509a7bdf-5cd6-45d4-ac33-d2c23a05182c",
   "metadata": {},
   "outputs": [
    {
     "name": "stdout",
     "output_type": "stream",
     "text": [
      "The result was 0.129\n"
     ]
    }
   ],
   "source": [
    "# What if you want decimal to be in a specific places\n",
    "# \"value:width.precision f\"\n",
    "\n",
    "print(\"The result was {r:1.3f}\".format(r=result))"
   ]
  },
  {
   "cell_type": "code",
   "execution_count": 55,
   "id": "a86ec7d3-de75-4b98-9c3f-e4fe9b26b0c1",
   "metadata": {},
   "outputs": [
    {
     "name": "stdout",
     "output_type": "stream",
     "text": [
      "The result was      0.129\n"
     ]
    }
   ],
   "source": [
    "print(\"The result was {r:10.3f}\".format(r=result))   #width just adds space before the number"
   ]
  },
  {
   "cell_type": "code",
   "execution_count": 56,
   "id": "24fd1a9c-ccc4-41d3-a35c-d913dafc718d",
   "metadata": {},
   "outputs": [],
   "source": [
    "result2 = 200.45"
   ]
  },
  {
   "cell_type": "code",
   "execution_count": 57,
   "id": "6686589f-4736-48ca-8a30-4e917738fd9c",
   "metadata": {},
   "outputs": [
    {
     "name": "stdout",
     "output_type": "stream",
     "text": [
      "The result was 200.450\n"
     ]
    }
   ],
   "source": [
    "print(\"The result was {r:1.3f}\".format(r=result2))"
   ]
  },
  {
   "cell_type": "markdown",
   "id": "68fdcba9-23b5-45fa-bd0f-d07770bf7add",
   "metadata": {},
   "source": [
    "#### 'f' string method"
   ]
  },
  {
   "cell_type": "code",
   "execution_count": 58,
   "id": "dba0e83f-4dda-430c-8f85-200b68e722a1",
   "metadata": {},
   "outputs": [],
   "source": [
    "# An alternarive method to do formating : 'f' string\n",
    "\n",
    "name = \"Dipti\""
   ]
  },
  {
   "cell_type": "code",
   "execution_count": 59,
   "id": "42113d44-27b2-4da0-9ba4-aafefe343c27",
   "metadata": {},
   "outputs": [
    {
     "name": "stdout",
     "output_type": "stream",
     "text": [
      "Hello, my name is Dipti\n"
     ]
    }
   ],
   "source": [
    "print(f\"Hello, my name is {name}\")"
   ]
  },
  {
   "cell_type": "code",
   "execution_count": 60,
   "id": "f1d81a07-1e74-4a20-9fcc-094b82041eac",
   "metadata": {},
   "outputs": [
    {
     "name": "stdout",
     "output_type": "stream",
     "text": [
      "Her name is Ana and she is 3 years old\n"
     ]
    }
   ],
   "source": [
    "name = \"Ana\"\n",
    "age = 3\n",
    "print(f\"Her name is {name} and she is {age} years old\")"
   ]
  },
  {
   "cell_type": "markdown",
   "id": "4ceaa3e2-8645-4084-b52b-78aa292163ef",
   "metadata": {},
   "source": [
    "### Mutable and Immutable datatype"
   ]
  },
  {
   "cell_type": "markdown",
   "id": "271c932a-b46c-4389-8c05-4777ab95e182",
   "metadata": {},
   "source": [
    "#### MUTABLE DATATYPES"
   ]
  },
  {
   "cell_type": "markdown",
   "id": "545bf073-e2cc-4f7d-b754-2e53d974339e",
   "metadata": {},
   "source": [
    "Mutable datatypes: datatypes that can be edited. Examples are **list and dictionary**"
   ]
  },
  {
   "cell_type": "markdown",
   "id": "da6260b1-3203-4b60-8723-5e8ee699cb37",
   "metadata": {},
   "source": [
    "#### Lists"
   ]
  },
  {
   "cell_type": "code",
   "execution_count": 61,
   "id": "f5456982-4ca3-4c26-a86a-1742889d5c82",
   "metadata": {},
   "outputs": [],
   "source": [
    "# Lists are mutable dataypes that stores values in ordered sequence\n",
    "\n",
    "list_1 = [1, \"two\", 3, \"4\", 5, 6]"
   ]
  },
  {
   "cell_type": "code",
   "execution_count": 62,
   "id": "ab3fd45e-7933-4a3b-a68c-ecf7326663a4",
   "metadata": {},
   "outputs": [
    {
     "data": {
      "text/plain": [
       "[1, 'two', 3, '4', 5, 6]"
      ]
     },
     "execution_count": 62,
     "metadata": {},
     "output_type": "execute_result"
    }
   ],
   "source": [
    "list_1"
   ]
  },
  {
   "cell_type": "code",
   "execution_count": 63,
   "id": "509d9496-de56-469d-91a0-6fda5cd8a19e",
   "metadata": {},
   "outputs": [],
   "source": [
    "list_2 = [5,6,8,9]"
   ]
  },
  {
   "cell_type": "code",
   "execution_count": 64,
   "id": "d8a8337f-462c-4a19-aa9c-055ef934b77b",
   "metadata": {},
   "outputs": [
    {
     "data": {
      "text/plain": [
       "[1, 'two', 3, '4', 5, 6, 5, 6, 8, 9]"
      ]
     },
     "execution_count": 64,
     "metadata": {},
     "output_type": "execute_result"
    }
   ],
   "source": [
    "# concatenation\n",
    "\n",
    "list_3 = list_1 + list_2\n",
    "list_3"
   ]
  },
  {
   "cell_type": "code",
   "execution_count": 65,
   "id": "93a4dda7-c469-41fc-b902-538b97e559e2",
   "metadata": {},
   "outputs": [
    {
     "data": {
      "text/plain": [
       "1"
      ]
     },
     "execution_count": 65,
     "metadata": {},
     "output_type": "execute_result"
    }
   ],
   "source": [
    "list_3[0]"
   ]
  },
  {
   "cell_type": "code",
   "execution_count": 66,
   "id": "2cdaf4ba-dce9-4af0-bc39-014b8b4de3d2",
   "metadata": {},
   "outputs": [],
   "source": [
    "list_3[1] =2"
   ]
  },
  {
   "cell_type": "code",
   "execution_count": 67,
   "id": "2e4f0dec-89b6-4d76-9160-55bbc31d9eb7",
   "metadata": {},
   "outputs": [
    {
     "data": {
      "text/plain": [
       "[1, 2, 3, '4', 5, 6, 5, 6, 8, 9]"
      ]
     },
     "execution_count": 67,
     "metadata": {},
     "output_type": "execute_result"
    }
   ],
   "source": [
    "list_3"
   ]
  },
  {
   "cell_type": "code",
   "execution_count": 68,
   "id": "1f4ba38f-6f39-4a1f-a8b3-1898386077af",
   "metadata": {},
   "outputs": [],
   "source": [
    "list_3[3]=4"
   ]
  },
  {
   "cell_type": "code",
   "execution_count": 69,
   "id": "35122697-9360-4895-8bb9-3ff85264bf08",
   "metadata": {},
   "outputs": [
    {
     "data": {
      "text/plain": [
       "[1, 2, 3, 4, 5, 6, 5, 6, 8, 9]"
      ]
     },
     "execution_count": 69,
     "metadata": {},
     "output_type": "execute_result"
    }
   ],
   "source": [
    "list_3"
   ]
  },
  {
   "cell_type": "code",
   "execution_count": 70,
   "id": "fa7b1a55-e368-40cf-afe6-5bfe58507dc7",
   "metadata": {},
   "outputs": [
    {
     "data": {
      "text/plain": [
       "[1, 2, 3, 4, 5, 6, 5, 6, 8, 9, 13, 39, 11, 84]"
      ]
     },
     "execution_count": 70,
     "metadata": {},
     "output_type": "execute_result"
    }
   ],
   "source": [
    "# extend list\n",
    "\n",
    "list4 = [13,39,11,84]\n",
    "\n",
    "list_3.extend(list4)\n",
    "\n",
    "list_3"
   ]
  },
  {
   "cell_type": "code",
   "execution_count": 71,
   "id": "b6ab9648-e3af-49ab-a5d9-b099ed762fd4",
   "metadata": {},
   "outputs": [
    {
     "name": "stdout",
     "output_type": "stream",
     "text": [
      "[1, 'two', 3, '4', 5, 6]\n"
     ]
    }
   ],
   "source": [
    "# Copying list\n",
    "\n",
    "# copy_list = list1.copy()\n",
    "# print(copy_list)\n",
    "\n",
    "copy_list = list_1  #if we use a=b, the changes made in a will reflect on b, \n",
    "                   #in order to avoid that we use copy method\n",
    "\n",
    "copy_new_list = list_1.copy()\n",
    "print(copy_new_list)"
   ]
  },
  {
   "cell_type": "code",
   "execution_count": 72,
   "id": "f513e1d6-8629-44a2-92a0-b271fb794142",
   "metadata": {},
   "outputs": [
    {
     "data": {
      "text/plain": [
       "[11, 12, 13, 14, [1, 'two', 3, '4', 5, 6]]"
      ]
     },
     "execution_count": 72,
     "metadata": {},
     "output_type": "execute_result"
    }
   ],
   "source": [
    "# We can create list in a list\n",
    "\n",
    "list5 = [11,12,13,14, list_1]\n",
    "list5"
   ]
  },
  {
   "cell_type": "code",
   "execution_count": 73,
   "id": "6e6ee0cd-7683-4a02-9985-8d4779ab94ae",
   "metadata": {},
   "outputs": [
    {
     "data": {
      "text/plain": [
       "5"
      ]
     },
     "execution_count": 73,
     "metadata": {},
     "output_type": "execute_result"
    }
   ],
   "source": [
    "len(list5)    #len will be 4 not includes the count of nexted lists"
   ]
  },
  {
   "cell_type": "code",
   "execution_count": 74,
   "id": "af95a19d-bbd0-4e96-b9ad-551229b31f09",
   "metadata": {},
   "outputs": [
    {
     "data": {
      "text/plain": [
       "[1, 'two', 3, '4', 5, 6]"
      ]
     },
     "execution_count": 74,
     "metadata": {},
     "output_type": "execute_result"
    }
   ],
   "source": [
    "list5[4]  # here you can unpack the list"
   ]
  },
  {
   "cell_type": "code",
   "execution_count": 75,
   "id": "8a785dbc-7f52-439e-9ddb-f0a6ff8d2dd1",
   "metadata": {},
   "outputs": [
    {
     "data": {
      "text/plain": [
       "[1, 2, 3, 4, 5]"
      ]
     },
     "execution_count": 75,
     "metadata": {},
     "output_type": "execute_result"
    }
   ],
   "source": [
    "# slicing\n",
    "\n",
    "list_3[:5]"
   ]
  },
  {
   "cell_type": "code",
   "execution_count": 76,
   "id": "65e0e0aa-dc68-4669-9a30-365caf0b76df",
   "metadata": {},
   "outputs": [
    {
     "data": {
      "text/plain": [
       "[2, 4, 6]"
      ]
     },
     "execution_count": 76,
     "metadata": {},
     "output_type": "execute_result"
    }
   ],
   "source": [
    "# step functions\n",
    "\n",
    "list_3[1:7:2]"
   ]
  },
  {
   "cell_type": "code",
   "execution_count": 77,
   "id": "9b93067b-f1dc-419c-b520-6ec80c6b1e09",
   "metadata": {},
   "outputs": [
    {
     "data": {
      "text/plain": [
       "[1, 2, 3, 4, 5, 6, 5, 6, 8, 9, 13, 39, 11, 84, 10]"
      ]
     },
     "execution_count": 77,
     "metadata": {},
     "output_type": "execute_result"
    }
   ],
   "source": [
    "list_3.append(10)\n",
    "list_3"
   ]
  },
  {
   "cell_type": "code",
   "execution_count": 78,
   "id": "a86dc8c8-3b22-43b1-81aa-212dcfacf6fd",
   "metadata": {},
   "outputs": [
    {
     "data": {
      "text/plain": [
       "10"
      ]
     },
     "execution_count": 78,
     "metadata": {},
     "output_type": "execute_result"
    }
   ],
   "source": [
    "# pop() removes the last items, if nothing specified index location is povided under ()\n",
    "\n",
    "list_3.pop()"
   ]
  },
  {
   "cell_type": "code",
   "execution_count": 79,
   "id": "6e3d8814-22cd-463a-a1b5-0d7350296185",
   "metadata": {},
   "outputs": [
    {
     "data": {
      "text/plain": [
       "[1, 2, 3, 4, 5, 6, 5, 6, 8, 9, 13, 39, 11, 84]"
      ]
     },
     "execution_count": 79,
     "metadata": {},
     "output_type": "execute_result"
    }
   ],
   "source": [
    "list_3"
   ]
  },
  {
   "cell_type": "code",
   "execution_count": 80,
   "id": "181610a7-ca6e-4642-b271-161ba94d7af8",
   "metadata": {},
   "outputs": [
    {
     "data": {
      "text/plain": [
       "5"
      ]
     },
     "execution_count": 80,
     "metadata": {},
     "output_type": "execute_result"
    }
   ],
   "source": [
    "list_3.pop(6)"
   ]
  },
  {
   "cell_type": "code",
   "execution_count": 81,
   "id": "08fd2868-5e63-4f6f-9363-4bac6c782e4a",
   "metadata": {},
   "outputs": [
    {
     "data": {
      "text/plain": [
       "[1, 2, 3, 4, 5, 6, 6, 8, 9, 13, 39, 11, 84]"
      ]
     },
     "execution_count": 81,
     "metadata": {},
     "output_type": "execute_result"
    }
   ],
   "source": [
    "list_3"
   ]
  },
  {
   "cell_type": "code",
   "execution_count": 82,
   "id": "f0084d6b-c234-4b8d-a87b-38aef1fe5539",
   "metadata": {},
   "outputs": [],
   "source": [
    "list_3.remove(6)      #in remove an item in a list is specified index position"
   ]
  },
  {
   "cell_type": "code",
   "execution_count": 83,
   "id": "5ea533e7-c8e9-43f3-b427-cdcb9f3fc94f",
   "metadata": {},
   "outputs": [
    {
     "data": {
      "text/plain": [
       "[1, 2, 3, 4, 5, 6, 8, 9, 13, 39, 11, 84]"
      ]
     },
     "execution_count": 83,
     "metadata": {},
     "output_type": "execute_result"
    }
   ],
   "source": [
    "list_3"
   ]
  },
  {
   "cell_type": "code",
   "execution_count": 84,
   "id": "74191fe6-c981-466e-a22f-19f82ae383d0",
   "metadata": {},
   "outputs": [],
   "source": [
    "# Remove specified index, alternative is 'del'\n",
    "\n",
    "# del list1[0]\n",
    "\n",
    "# list1.clear()  will clear the list"
   ]
  },
  {
   "cell_type": "code",
   "execution_count": 85,
   "id": "ef3e4a2b-cf41-45de-b76e-c6e2cc93cb33",
   "metadata": {},
   "outputs": [
    {
     "data": {
      "text/plain": [
       "[84, 39, 13, 11, 9, 8, 6, 5, 4, 3, 2, 1]"
      ]
     },
     "execution_count": 85,
     "metadata": {},
     "output_type": "execute_result"
    }
   ],
   "source": [
    "list_3.sort(reverse= True)   #or list_3.reverse()\n",
    "list_3"
   ]
  },
  {
   "cell_type": "code",
   "execution_count": 86,
   "id": "76515836-9039-4996-b28c-1b6e9a9690c8",
   "metadata": {},
   "outputs": [
    {
     "data": {
      "text/plain": [
       "[1, 2, 3, 4, 5, 6, 8, 9, 11, 13, 39, 84]"
      ]
     },
     "execution_count": 86,
     "metadata": {},
     "output_type": "execute_result"
    }
   ],
   "source": [
    "list_3.sort()\n",
    "list_3"
   ]
  },
  {
   "cell_type": "markdown",
   "id": "11b21591-94b1-4fa6-b782-51c4b8b0c4a8",
   "metadata": {},
   "source": [
    "#### Dictionaries"
   ]
  },
  {
   "cell_type": "code",
   "execution_count": 87,
   "id": "b754137f-c55f-436d-894f-c97ea5aca6c6",
   "metadata": {},
   "outputs": [
    {
     "name": "stdout",
     "output_type": "stream",
     "text": [
      "{'brand': 'Ford', 'electric': False, 'year': 1964, 'colors': ['red', 'white', 'blue']}\n"
     ]
    }
   ],
   "source": [
    "# Dictionary - used to store data values in key:value pair. A dictionary is a collection which is ordered*, \n",
    "# changeable and do not allow duplicates.\n",
    "\n",
    "dict = {\"brand\": \"Ford\",\n",
    "  \"electric\": False,\n",
    "  \"year\": 1964,\n",
    "  \"colors\": [\"red\", \"white\", \"blue\"]    \n",
    "}\n",
    "\n",
    "print(dict)\n"
   ]
  },
  {
   "cell_type": "code",
   "execution_count": 88,
   "id": "53216227-9373-4625-b085-52279b36486c",
   "metadata": {},
   "outputs": [],
   "source": [
    "# Dictionarie are the mutable datatypes and contains key:value pair. They are unordered, cant be sorted\n",
    "# {'key1': value1, 'key2' : 'value2'}\n",
    "\n",
    "prices = { 'apple' : '2.99', 'oranges' :1.99, 'milk': 5.80}\n"
   ]
  },
  {
   "cell_type": "code",
   "execution_count": 89,
   "id": "8fe1af6c-8f20-4a8c-8fc5-77989a3a0168",
   "metadata": {},
   "outputs": [
    {
     "data": {
      "text/plain": [
       "{'apple': '2.99', 'oranges': 1.99, 'milk': 5.8}"
      ]
     },
     "execution_count": 89,
     "metadata": {},
     "output_type": "execute_result"
    }
   ],
   "source": [
    "prices"
   ]
  },
  {
   "cell_type": "code",
   "execution_count": 90,
   "id": "153ee911-952d-476d-bd47-5d92fd4d6b3f",
   "metadata": {},
   "outputs": [
    {
     "data": {
      "text/plain": [
       "5.8"
      ]
     },
     "execution_count": 90,
     "metadata": {},
     "output_type": "execute_result"
    }
   ],
   "source": [
    "prices['milk']"
   ]
  },
  {
   "cell_type": "code",
   "execution_count": 91,
   "id": "3621380b-86ba-4de0-aad6-dfd262b4cbd9",
   "metadata": {},
   "outputs": [],
   "source": [
    "# prices[0]  #this doesnt recognize index"
   ]
  },
  {
   "cell_type": "code",
   "execution_count": 92,
   "id": "48e09347-e46d-4cf4-a83f-0fa719c28a82",
   "metadata": {},
   "outputs": [],
   "source": [
    "# We can store list inside dictionary\n",
    "\n",
    "d = {'k1': 123, 'k2':[0,1,2,3], 'k3':{'insidekey':100}}"
   ]
  },
  {
   "cell_type": "code",
   "execution_count": 93,
   "id": "6d704373-c452-4703-a6b2-4ec204021cbc",
   "metadata": {},
   "outputs": [
    {
     "data": {
      "text/plain": [
       "{'k1': 123, 'k2': [0, 1, 2, 3], 'k3': {'insidekey': 100}}"
      ]
     },
     "execution_count": 93,
     "metadata": {},
     "output_type": "execute_result"
    }
   ],
   "source": [
    "d"
   ]
  },
  {
   "cell_type": "code",
   "execution_count": 94,
   "id": "39b1e5c6-362a-4538-bcc7-528874f4fcb7",
   "metadata": {},
   "outputs": [
    {
     "data": {
      "text/plain": [
       "[0, 1, 2, 3]"
      ]
     },
     "execution_count": 94,
     "metadata": {},
     "output_type": "execute_result"
    }
   ],
   "source": [
    "d['k2']"
   ]
  },
  {
   "cell_type": "code",
   "execution_count": 95,
   "id": "8667a298-c81b-43d6-aea3-fb27c5f4710e",
   "metadata": {},
   "outputs": [
    {
     "data": {
      "text/plain": [
       "1"
      ]
     },
     "execution_count": 95,
     "metadata": {},
     "output_type": "execute_result"
    }
   ],
   "source": [
    "d['k2'][1]    # since it was a list I can specify index in it"
   ]
  },
  {
   "cell_type": "code",
   "execution_count": 96,
   "id": "4e14456d-f1b2-4e1b-a595-90d83a8b429d",
   "metadata": {},
   "outputs": [
    {
     "data": {
      "text/plain": [
       "100"
      ]
     },
     "execution_count": 96,
     "metadata": {},
     "output_type": "execute_result"
    }
   ],
   "source": [
    "d['k3']['insidekey']"
   ]
  },
  {
   "cell_type": "code",
   "execution_count": 97,
   "id": "f1dd9eeb-a120-4268-9d94-f7fb8ecc9f92",
   "metadata": {},
   "outputs": [
    {
     "data": {
      "text/plain": [
       "{'k1': 450, 'k2': [0, 1, 2, 3], 'k3': {'insidekey': 100}}"
      ]
     },
     "execution_count": 97,
     "metadata": {},
     "output_type": "execute_result"
    }
   ],
   "source": [
    " # Changing the value in key\n",
    "    \n",
    "d['k1']=450\n",
    "d"
   ]
  },
  {
   "cell_type": "code",
   "execution_count": 98,
   "id": "59f28577-b08f-4d84-96ee-0799ea361305",
   "metadata": {},
   "outputs": [
    {
     "data": {
      "text/plain": [
       "{'key1': ['a', 'b', 'c']}"
      ]
     },
     "execution_count": 98,
     "metadata": {},
     "output_type": "execute_result"
    }
   ],
   "source": [
    "key = {'key1':['a','b','c']}\n",
    "key"
   ]
  },
  {
   "cell_type": "code",
   "execution_count": 99,
   "id": "e06f2e3d-f91a-40cc-87e6-02683bb033fd",
   "metadata": {},
   "outputs": [
    {
     "data": {
      "text/plain": [
       "['a', 'b', 'c']"
      ]
     },
     "execution_count": 99,
     "metadata": {},
     "output_type": "execute_result"
    }
   ],
   "source": [
    "# Lets say I want the letter 'c' to be capital, we can do so by \n",
    "\n",
    "mylist = key['key1']\n",
    "mylist"
   ]
  },
  {
   "cell_type": "code",
   "execution_count": 100,
   "id": "5df66171-a929-4e4a-9f87-69452e884bc4",
   "metadata": {},
   "outputs": [
    {
     "data": {
      "text/plain": [
       "'C'"
      ]
     },
     "execution_count": 100,
     "metadata": {},
     "output_type": "execute_result"
    }
   ],
   "source": [
    "c = mylist[2].upper()\n",
    "c"
   ]
  },
  {
   "cell_type": "code",
   "execution_count": 101,
   "id": "c37adb0d-3dd7-4029-baaa-33e9c27ddecd",
   "metadata": {},
   "outputs": [
    {
     "data": {
      "text/plain": [
       "'C'"
      ]
     },
     "execution_count": 101,
     "metadata": {},
     "output_type": "execute_result"
    }
   ],
   "source": [
    "# Other method\n",
    "\n",
    "key['key1'][2].upper()"
   ]
  },
  {
   "cell_type": "code",
   "execution_count": 102,
   "id": "e3d0a7c1-57b9-46f5-a373-6fb2d97dc77f",
   "metadata": {},
   "outputs": [
    {
     "data": {
      "text/plain": [
       "{'k1': 450, 'k2': [0, 1, 2, 3], 'k3': {'insidekey': 100}}"
      ]
     },
     "execution_count": 102,
     "metadata": {},
     "output_type": "execute_result"
    }
   ],
   "source": [
    "# Adding new key: value pair\n",
    "\n",
    "d"
   ]
  },
  {
   "cell_type": "code",
   "execution_count": 103,
   "id": "01a3654a-de50-4c94-a8ba-4b7be5faa7c3",
   "metadata": {},
   "outputs": [],
   "source": [
    "d['k4'] = 687"
   ]
  },
  {
   "cell_type": "code",
   "execution_count": 104,
   "id": "e22256c4-12e4-4c97-884e-0338e89ad96c",
   "metadata": {},
   "outputs": [
    {
     "data": {
      "text/plain": [
       "{'k1': 450, 'k2': [0, 1, 2, 3], 'k3': {'insidekey': 100}, 'k4': 687}"
      ]
     },
     "execution_count": 104,
     "metadata": {},
     "output_type": "execute_result"
    }
   ],
   "source": [
    "d"
   ]
  },
  {
   "cell_type": "code",
   "execution_count": 105,
   "id": "b216e09f-3638-4a70-b54b-41d1f6069110",
   "metadata": {},
   "outputs": [
    {
     "data": {
      "text/plain": [
       "dict_keys(['k1', 'k2', 'k3', 'k4'])"
      ]
     },
     "execution_count": 105,
     "metadata": {},
     "output_type": "execute_result"
    }
   ],
   "source": [
    "# List the keys in dictionary\n",
    "\n",
    "d.keys()"
   ]
  },
  {
   "cell_type": "code",
   "execution_count": 106,
   "id": "f2e41b7a-8ba3-41a6-9c7d-e00b413b2ae8",
   "metadata": {},
   "outputs": [
    {
     "data": {
      "text/plain": [
       "dict_items([('k1', 450), ('k2', [0, 1, 2, 3]), ('k3', {'insidekey': 100}), ('k4', 687)])"
      ]
     },
     "execution_count": 106,
     "metadata": {},
     "output_type": "execute_result"
    }
   ],
   "source": [
    "# List the items in dictionary\n",
    "\n",
    "d.items()"
   ]
  },
  {
   "cell_type": "markdown",
   "id": "0e8e1388-7ef7-4e26-91c9-c1724d8809a1",
   "metadata": {},
   "source": [
    "#### IMMUTABLE DATATYPES"
   ]
  },
  {
   "cell_type": "markdown",
   "id": "f90123de-d9df-49c1-bef4-c7cafb30fc60",
   "metadata": {},
   "source": [
    "#### Tuples"
   ]
  },
  {
   "cell_type": "code",
   "execution_count": 107,
   "id": "4199cd19-8242-478a-aeb3-0858158d0874",
   "metadata": {},
   "outputs": [
    {
     "data": {
      "text/plain": [
       "(1, 2, 3)"
      ]
     },
     "execution_count": 107,
     "metadata": {},
     "output_type": "execute_result"
    }
   ],
   "source": [
    "# Tupes are similar to lists but they are immutable (cant be reassigned)\n",
    "# syntax (1,2,3)\n",
    "\n",
    "t = (1,2,3)\n",
    "t"
   ]
  },
  {
   "cell_type": "code",
   "execution_count": 108,
   "id": "fbc06ee0-d24a-4b80-82c8-77037573ac93",
   "metadata": {},
   "outputs": [
    {
     "data": {
      "text/plain": [
       "tuple"
      ]
     },
     "execution_count": 108,
     "metadata": {},
     "output_type": "execute_result"
    }
   ],
   "source": [
    "type(t)"
   ]
  },
  {
   "cell_type": "code",
   "execution_count": 109,
   "id": "e1c67306-85c5-4218-bd9c-755db8e62ac1",
   "metadata": {},
   "outputs": [
    {
     "data": {
      "text/plain": [
       "2"
      ]
     },
     "execution_count": 109,
     "metadata": {},
     "output_type": "execute_result"
    }
   ],
   "source": [
    "t[1]"
   ]
  },
  {
   "cell_type": "code",
   "execution_count": 110,
   "id": "887687f7-8fcb-425b-8105-c492c8318e09",
   "metadata": {},
   "outputs": [],
   "source": [
    "t = ('one',2)"
   ]
  },
  {
   "cell_type": "code",
   "execution_count": 111,
   "id": "c7fa9a55-ba2a-49e4-833e-5bd58ac0d0db",
   "metadata": {},
   "outputs": [
    {
     "data": {
      "text/plain": [
       "('one', 2)"
      ]
     },
     "execution_count": 111,
     "metadata": {},
     "output_type": "execute_result"
    }
   ],
   "source": [
    "t"
   ]
  },
  {
   "cell_type": "code",
   "execution_count": 112,
   "id": "7d9134b4-9f8b-42ce-adf6-b4ee6c0bb0c2",
   "metadata": {},
   "outputs": [],
   "source": [
    "t = (1,2,2,4,5,6)"
   ]
  },
  {
   "cell_type": "code",
   "execution_count": 113,
   "id": "49ae3583-04b8-444f-813f-0dbcf9f84c23",
   "metadata": {},
   "outputs": [
    {
     "data": {
      "text/plain": [
       "2"
      ]
     },
     "execution_count": 113,
     "metadata": {},
     "output_type": "execute_result"
    }
   ],
   "source": [
    "# count repeats\n",
    "\n",
    "t.count(2)"
   ]
  },
  {
   "cell_type": "code",
   "execution_count": 114,
   "id": "1dee2ab3-be76-4832-b30b-973e167abef5",
   "metadata": {},
   "outputs": [
    {
     "data": {
      "text/plain": [
       "3"
      ]
     },
     "execution_count": 114,
     "metadata": {},
     "output_type": "execute_result"
    }
   ],
   "source": [
    "# Gives index locations\n",
    "\n",
    "t.index(4)"
   ]
  },
  {
   "cell_type": "code",
   "execution_count": 115,
   "id": "b020af4f-0f69-4b57-8cbf-4401db551d7f",
   "metadata": {},
   "outputs": [],
   "source": [
    "# Can we assign new value in tuple -- No\n",
    "\n",
    "# t[3] = 9"
   ]
  },
  {
   "cell_type": "markdown",
   "id": "aa932e91-7756-4436-a91a-880d35caf07f",
   "metadata": {},
   "source": [
    "#### Sets in Python"
   ]
  },
  {
   "cell_type": "code",
   "execution_count": 116,
   "id": "8e625f58-d3be-4a72-bd71-a1dad092acbc",
   "metadata": {},
   "outputs": [
    {
     "data": {
      "text/plain": [
       "set()"
      ]
     },
     "execution_count": 116,
     "metadata": {},
     "output_type": "execute_result"
    }
   ],
   "source": [
    "# Sets are unordered collection of unique elements\n",
    "\n",
    "set1 = set()\n",
    "set1                 #empty set"
   ]
  },
  {
   "cell_type": "code",
   "execution_count": 117,
   "id": "b00bc867-3ca4-4171-a6f7-d91d9540a33b",
   "metadata": {},
   "outputs": [
    {
     "data": {
      "text/plain": [
       "{1}"
      ]
     },
     "execution_count": 117,
     "metadata": {},
     "output_type": "execute_result"
    }
   ],
   "source": [
    "set1.add(1)\n",
    "set1"
   ]
  },
  {
   "cell_type": "code",
   "execution_count": 118,
   "id": "c08c702b-d935-40ca-9bea-4b792975be35",
   "metadata": {},
   "outputs": [
    {
     "data": {
      "text/plain": [
       "{1, 2}"
      ]
     },
     "execution_count": 118,
     "metadata": {},
     "output_type": "execute_result"
    }
   ],
   "source": [
    "set1.add(2)\n",
    "set1"
   ]
  },
  {
   "cell_type": "code",
   "execution_count": 119,
   "id": "da4c7e29-150f-421f-866d-afd2b8536e71",
   "metadata": {},
   "outputs": [
    {
     "data": {
      "text/plain": [
       "{1, 2}"
      ]
     },
     "execution_count": 119,
     "metadata": {},
     "output_type": "execute_result"
    }
   ],
   "source": [
    "# Lets try adding 2 again\n",
    "\n",
    "set1.add(2)\n",
    "set1             # Did you see dups? No, because they allowe only unique values"
   ]
  },
  {
   "cell_type": "code",
   "execution_count": 120,
   "id": "12799207-00bd-4c36-ac12-1bcc0c632918",
   "metadata": {},
   "outputs": [],
   "source": [
    "list3 = [1,1,1,1,1,2,2,2,2,3,3]"
   ]
  },
  {
   "cell_type": "code",
   "execution_count": 121,
   "id": "93de73d1-ab08-4cc6-81e8-33ebd572001a",
   "metadata": {},
   "outputs": [
    {
     "data": {
      "text/plain": [
       "{1, 2, 3}"
      ]
     },
     "execution_count": 121,
     "metadata": {},
     "output_type": "execute_result"
    }
   ],
   "source": [
    "set(list3)   #set doesnt allows duplicates"
   ]
  },
  {
   "cell_type": "markdown",
   "id": "afd47be3-5767-4a9c-af61-c476f32133bb",
   "metadata": {},
   "source": [
    "#### Booleans"
   ]
  },
  {
   "cell_type": "code",
   "execution_count": 122,
   "id": "81555deb-db39-4429-b45e-ecc76112803d",
   "metadata": {},
   "outputs": [
    {
     "data": {
      "text/plain": [
       "False"
      ]
     },
     "execution_count": 122,
     "metadata": {},
     "output_type": "execute_result"
    }
   ],
   "source": [
    "# Logical Operators that allows True or False\n",
    "\n",
    "# In Python, you must write True and False like \"True\" and \"False\". It is case sensitive\n",
    "\n",
    "False"
   ]
  },
  {
   "cell_type": "code",
   "execution_count": 123,
   "id": "2c9db587-4099-4c9b-a94e-a8f9de932a13",
   "metadata": {},
   "outputs": [
    {
     "data": {
      "text/plain": [
       "False"
      ]
     },
     "execution_count": 123,
     "metadata": {},
     "output_type": "execute_result"
    }
   ],
   "source": [
    "1>2"
   ]
  },
  {
   "cell_type": "code",
   "execution_count": 124,
   "id": "af8697d0-c24e-4c1b-becf-04e9f8e13531",
   "metadata": {},
   "outputs": [
    {
     "data": {
      "text/plain": [
       "True"
      ]
     },
     "execution_count": 124,
     "metadata": {},
     "output_type": "execute_result"
    }
   ],
   "source": [
    "5 <10"
   ]
  },
  {
   "cell_type": "code",
   "execution_count": 125,
   "id": "073bdc65-2b3a-4ea9-8b37-78795197a531",
   "metadata": {},
   "outputs": [
    {
     "data": {
      "text/plain": [
       "bool"
      ]
     },
     "execution_count": 125,
     "metadata": {},
     "output_type": "execute_result"
    }
   ],
   "source": [
    "type(True)"
   ]
  },
  {
   "cell_type": "code",
   "execution_count": 126,
   "id": "e4207c75-9ecf-4a48-813b-568119fcdb1c",
   "metadata": {},
   "outputs": [
    {
     "data": {
      "text/plain": [
       "False"
      ]
     },
     "execution_count": 126,
     "metadata": {},
     "output_type": "execute_result"
    }
   ],
   "source": [
    "2 == 4"
   ]
  },
  {
   "cell_type": "code",
   "execution_count": 127,
   "id": "cbdaa130-5b91-44ce-ab0b-142935c0f091",
   "metadata": {},
   "outputs": [],
   "source": [
    "b = None"
   ]
  },
  {
   "cell_type": "code",
   "execution_count": 128,
   "id": "1c895155-c61b-4d07-9eb9-48ab62ed7cbd",
   "metadata": {},
   "outputs": [
    {
     "data": {
      "text/plain": [
       "NoneType"
      ]
     },
     "execution_count": 128,
     "metadata": {},
     "output_type": "execute_result"
    }
   ],
   "source": [
    "type(b)"
   ]
  },
  {
   "cell_type": "markdown",
   "id": "bf84d847-a98c-4110-bce4-dff0b2a1b8e1",
   "metadata": {},
   "source": [
    "#### Basic I/O files"
   ]
  },
  {
   "cell_type": "markdown",
   "id": "aa7f2323-20f7-46c5-863d-5e342baa8731",
   "metadata": {},
   "source": [
    "Magic Function in python '%'. Magic functions only work in jupyter lab/notebook. This is a function of jupyter\n",
    "**Please note:** There shouldn't be any comments before the magic functions, otherwise it wont work"
   ]
  },
  {
   "cell_type": "code",
   "execution_count": 129,
   "id": "3312206e-cd47-48b5-b265-b92ab0a58bda",
   "metadata": {},
   "outputs": [
    {
     "name": "stdout",
     "output_type": "stream",
     "text": [
      "Overwriting myfile.txt\n"
     ]
    }
   ],
   "source": [
    "%%writefile myfile.txt\n",
    "Hello this is a text file\n",
    "this is the second line\n",
    "I am explaining how you can write a tex file in python"
   ]
  },
  {
   "cell_type": "code",
   "execution_count": 130,
   "id": "019698ad-24d7-4ae8-b88c-da9ea4660a3f",
   "metadata": {},
   "outputs": [],
   "source": [
    "myfile = open('myfile.txt')    #file name should be in string"
   ]
  },
  {
   "cell_type": "code",
   "execution_count": 131,
   "id": "eba80f5a-7786-4dc0-bc65-0022cf0b88bf",
   "metadata": {},
   "outputs": [
    {
     "data": {
      "text/plain": [
       "'Hello this is a text file\\nthis is the second line\\nI am explaining how you can write a tex file in python\\n'"
      ]
     },
     "execution_count": 131,
     "metadata": {},
     "output_type": "execute_result"
    }
   ],
   "source": [
    "myfile.read()"
   ]
  },
  {
   "cell_type": "code",
   "execution_count": 132,
   "id": "949be828-20b7-41d6-a6c5-8f285e1f7ffa",
   "metadata": {},
   "outputs": [
    {
     "data": {
      "text/plain": [
       "''"
      ]
     },
     "execution_count": 132,
     "metadata": {},
     "output_type": "execute_result"
    }
   ],
   "source": [
    "myfile.read()     "
   ]
  },
  {
   "cell_type": "markdown",
   "id": "465b2a61-8baa-40ec-9954-3ce73f34494b",
   "metadata": {},
   "source": [
    "when you read the text file again it wont show the text, it gave an empty string\n",
    "This is happenig cz there is a cursor at the beginning of the file and in order to make\n",
    "it read again, we need to seek it back to zero\n"
   ]
  },
  {
   "cell_type": "code",
   "execution_count": 133,
   "id": "382676a8-82b9-4e9a-99da-aab858b8c13b",
   "metadata": {},
   "outputs": [
    {
     "data": {
      "text/plain": [
       "0"
      ]
     },
     "execution_count": 133,
     "metadata": {},
     "output_type": "execute_result"
    }
   ],
   "source": [
    "myfile.seek(0)"
   ]
  },
  {
   "cell_type": "code",
   "execution_count": 134,
   "id": "c882bb77-efa7-4d32-acb8-74e90783763a",
   "metadata": {},
   "outputs": [
    {
     "data": {
      "text/plain": [
       "'Hello this is a text file\\nthis is the second line\\nI am explaining how you can write a tex file in python\\n'"
      ]
     },
     "execution_count": 134,
     "metadata": {},
     "output_type": "execute_result"
    }
   ],
   "source": [
    "myfile.read()"
   ]
  },
  {
   "cell_type": "markdown",
   "id": "48c93443-37b1-42e5-8f08-ca75d0a746df",
   "metadata": {},
   "source": [
    "Sometimes the file won't open if its not in a same folder where your jupyter notebook is\n",
    "In this case, you need to get a file path using pwd... this also doesnt work with any comments before it"
   ]
  },
  {
   "cell_type": "code",
   "execution_count": 135,
   "id": "960d38ed-8421-485a-a6a2-76d74786c1c7",
   "metadata": {},
   "outputs": [
    {
     "data": {
      "text/plain": [
       "'/Users/shirishpandagare/Documents/DiptiFolder/Github_repo/Deepti_Github_Repo/Learning_hub/python_learning'"
      ]
     },
     "execution_count": 135,
     "metadata": {},
     "output_type": "execute_result"
    }
   ],
   "source": [
    "pwd"
   ]
  },
  {
   "cell_type": "code",
   "execution_count": 136,
   "id": "58ed88bc-20ec-4614-904e-036761db2521",
   "metadata": {},
   "outputs": [
    {
     "data": {
      "text/plain": [
       "0"
      ]
     },
     "execution_count": 136,
     "metadata": {},
     "output_type": "execute_result"
    }
   ],
   "source": [
    "# if we want separate objects\n",
    "\n",
    "myfile.seek(0)"
   ]
  },
  {
   "cell_type": "code",
   "execution_count": 137,
   "id": "0de4c4c6-754f-4d55-911a-de0dad6f935b",
   "metadata": {},
   "outputs": [
    {
     "data": {
      "text/plain": [
       "['Hello this is a text file\\n',\n",
       " 'this is the second line\\n',\n",
       " 'I am explaining how you can write a tex file in python\\n']"
      ]
     },
     "execution_count": 137,
     "metadata": {},
     "output_type": "execute_result"
    }
   ],
   "source": [
    "myfile.readlines()"
   ]
  },
  {
   "cell_type": "markdown",
   "id": "d58eaa9b-81e2-43cb-b631-3ee7a0067e1a",
   "metadata": {},
   "source": [
    "How to open a text file which is in any other location in Mac / Linux     \n",
    "myfile = open(\"/Users/Username/Folder/myfile.txt\")"
   ]
  },
  {
   "cell_type": "code",
   "execution_count": 138,
   "id": "20151289-3de5-4a79-8699-8eb39903b538",
   "metadata": {},
   "outputs": [
    {
     "data": {
      "text/plain": [
       "'/Users/shirishpandagare/Documents/DiptiFolder/Github_repo/Deepti_Github_Repo/Learning_hub/python_learning'"
      ]
     },
     "execution_count": 138,
     "metadata": {},
     "output_type": "execute_result"
    }
   ],
   "source": [
    "pwd"
   ]
  },
  {
   "cell_type": "code",
   "execution_count": 139,
   "id": "aacee54f-14d5-41e0-b748-cd37e45a1502",
   "metadata": {},
   "outputs": [],
   "source": [
    "myfile.close()"
   ]
  },
  {
   "cell_type": "code",
   "execution_count": 140,
   "id": "5f4a01ca-1c3a-4864-b826-d7eed5ccb1d0",
   "metadata": {},
   "outputs": [],
   "source": [
    "with open('myfile.txt') as my_new_file:\n",
    "    content = my_new_file.read()"
   ]
  },
  {
   "cell_type": "code",
   "execution_count": 141,
   "id": "b24d6ca5-4316-40cf-8605-8e28fada71da",
   "metadata": {},
   "outputs": [
    {
     "data": {
      "text/plain": [
       "'Hello this is a text file\\nthis is the second line\\nI am explaining how you can write a tex file in python\\n'"
      ]
     },
     "execution_count": 141,
     "metadata": {},
     "output_type": "execute_result"
    }
   ],
   "source": [
    "content"
   ]
  },
  {
   "cell_type": "code",
   "execution_count": 142,
   "id": "58fd29b0-2a4a-4ecd-ba46-9b27d77b1719",
   "metadata": {},
   "outputs": [],
   "source": [
    "with open('myfile.txt',mode ='r') as myfile:\n",
    "    content = myfile.read()"
   ]
  },
  {
   "cell_type": "markdown",
   "id": "d1bf8100-1186-450c-a628-c5162189bfb4",
   "metadata": {},
   "source": [
    "mode = **r** is for read, **w** for write, **a** to append"
   ]
  },
  {
   "cell_type": "markdown",
   "id": "af876be9-ce5c-476e-b630-af33aef39e65",
   "metadata": {},
   "source": [
    "#### Comparison Operators in Python"
   ]
  },
  {
   "cell_type": "code",
   "execution_count": 143,
   "id": "1150b4d6-cb16-4e47-9511-26070bdec427",
   "metadata": {},
   "outputs": [
    {
     "data": {
      "text/plain": [
       "True"
      ]
     },
     "execution_count": 143,
     "metadata": {},
     "output_type": "execute_result"
    }
   ],
   "source": [
    "2 == 2  # == 'two equals' because python recognises it as equals, one equal '=' is for variable assignment"
   ]
  },
  {
   "cell_type": "code",
   "execution_count": 144,
   "id": "56ddba25-6dee-4075-a073-54e50ac32262",
   "metadata": {},
   "outputs": [
    {
     "data": {
      "text/plain": [
       "False"
      ]
     },
     "execution_count": 144,
     "metadata": {},
     "output_type": "execute_result"
    }
   ],
   "source": [
    "2 == 1"
   ]
  },
  {
   "cell_type": "code",
   "execution_count": 145,
   "id": "565a20c3-cb9d-4b7e-a457-b4c1cde190bf",
   "metadata": {},
   "outputs": [
    {
     "data": {
      "text/plain": [
       "True"
      ]
     },
     "execution_count": 145,
     "metadata": {},
     "output_type": "execute_result"
    }
   ],
   "source": [
    "2.0 == 2"
   ]
  },
  {
   "cell_type": "code",
   "execution_count": 146,
   "id": "a926bd8c-767e-4d22-b1cb-91ec1567a56b",
   "metadata": {},
   "outputs": [
    {
     "data": {
      "text/plain": [
       "False"
      ]
     },
     "execution_count": 146,
     "metadata": {},
     "output_type": "execute_result"
    }
   ],
   "source": [
    "3 != 3    # not equal"
   ]
  },
  {
   "cell_type": "code",
   "execution_count": 147,
   "id": "f37bae3d-5918-4b9d-94dc-cafae569604f",
   "metadata": {},
   "outputs": [
    {
     "data": {
      "text/plain": [
       "False"
      ]
     },
     "execution_count": 147,
     "metadata": {},
     "output_type": "execute_result"
    }
   ],
   "source": [
    "4>9"
   ]
  },
  {
   "cell_type": "markdown",
   "id": "279b9614-558e-4233-87b7-d4c149752aa0",
   "metadata": {},
   "source": [
    "Multiple comparisons =>\n",
    "\n",
    "logical opertors : and, or, not"
   ]
  },
  {
   "cell_type": "code",
   "execution_count": 148,
   "id": "30d76c18-6c8e-4677-ab9e-6261246dbeeb",
   "metadata": {},
   "outputs": [
    {
     "data": {
      "text/plain": [
       "True"
      ]
     },
     "execution_count": 148,
     "metadata": {},
     "output_type": "execute_result"
    }
   ],
   "source": [
    "# We want to if 1 < 2 and at the same time we also want to check is 2 < 3\n",
    "\n",
    "1 < 2 < 3"
   ]
  },
  {
   "cell_type": "code",
   "execution_count": 149,
   "id": "9bd14b5a-ddcd-4958-a9c0-8eda88c715ef",
   "metadata": {},
   "outputs": [
    {
     "data": {
      "text/plain": [
       "False"
      ]
     },
     "execution_count": 149,
     "metadata": {},
     "output_type": "execute_result"
    }
   ],
   "source": [
    "1 < 2 > 3  #T & F = F"
   ]
  },
  {
   "cell_type": "code",
   "execution_count": 150,
   "id": "caa088f4-cf18-41f6-bea3-89ea4afbdf82",
   "metadata": {},
   "outputs": [
    {
     "data": {
      "text/plain": [
       "False"
      ]
     },
     "execution_count": 150,
     "metadata": {},
     "output_type": "execute_result"
    }
   ],
   "source": [
    "1 < 2 and 2 > 3"
   ]
  },
  {
   "cell_type": "code",
   "execution_count": 151,
   "id": "13322444-4382-44c4-8d60-62fd731670e8",
   "metadata": {},
   "outputs": [
    {
     "data": {
      "text/plain": [
       "True"
      ]
     },
     "execution_count": 151,
     "metadata": {},
     "output_type": "execute_result"
    }
   ],
   "source": [
    "1 < 2 or 2 > 3"
   ]
  },
  {
   "cell_type": "code",
   "execution_count": 152,
   "id": "4a416a99-ee99-47d7-9be7-bf9f820f15df",
   "metadata": {},
   "outputs": [
    {
     "data": {
      "text/plain": [
       "True"
      ]
     },
     "execution_count": 152,
     "metadata": {},
     "output_type": "execute_result"
    }
   ],
   "source": [
    "('h' == 'h') and (2 == 2)"
   ]
  },
  {
   "cell_type": "code",
   "execution_count": 153,
   "id": "862178b8-79c3-4c62-bb54-c2429eb629d8",
   "metadata": {},
   "outputs": [
    {
     "data": {
      "text/plain": [
       "False"
      ]
     },
     "execution_count": 153,
     "metadata": {},
     "output_type": "execute_result"
    }
   ],
   "source": [
    "# not : opposite boolean of the result\n",
    "\n",
    "not(1==1)"
   ]
  },
  {
   "cell_type": "code",
   "execution_count": 154,
   "id": "7adbf08a-eb2d-4030-b52c-e76cacc27885",
   "metadata": {},
   "outputs": [
    {
     "data": {
      "text/plain": [
       "True"
      ]
     },
     "execution_count": 154,
     "metadata": {},
     "output_type": "execute_result"
    }
   ],
   "source": [
    "not 400 > 5000"
   ]
  },
  {
   "cell_type": "markdown",
   "id": "d029c757-4947-4694-91de-401bce5f0969",
   "metadata": {},
   "source": [
    "#### Python Statements"
   ]
  },
  {
   "cell_type": "code",
   "execution_count": 155,
   "id": "1407a9e1-af81-409e-b9c6-6d4dce6ede8f",
   "metadata": {},
   "outputs": [
    {
     "name": "stdout",
     "output_type": "stream",
     "text": [
      "It's True\n"
     ]
    }
   ],
   "source": [
    "##### If Elif and Else Statements\n",
    "\n",
    "\n",
    "'''\n",
    "## if and else\n",
    "\n",
    "\n",
    "if <some condition> :    \n",
    "    # execute code      \n",
    "else:     \n",
    "    # do something else     \n",
    "\n",
    " \n",
    "## Multiple conditions\n",
    "\n",
    "\n",
    "if <some condition> :     \n",
    "    # execute code    \n",
    "elif <some other condition>:    \n",
    "    # do something different    \n",
    "else:     \n",
    "    # do something else\n",
    "\n",
    "'''\n",
    "\n",
    "if True:\n",
    "    print(\"It's True\")\n",
    "else:\n",
    "    print(\"It's False\")"
   ]
  },
  {
   "cell_type": "code",
   "execution_count": 156,
   "id": "a0a6be61-92d3-409c-b719-29d4d0a7d0cc",
   "metadata": {},
   "outputs": [
    {
     "name": "stdout",
     "output_type": "stream",
     "text": [
      "I am not hungry\n"
     ]
    }
   ],
   "source": [
    "hungry = False\n",
    "\n",
    "if hungry:\n",
    "    print('Feed me')\n",
    "else:\n",
    "    print('I am not hungry')"
   ]
  },
  {
   "cell_type": "code",
   "execution_count": 157,
   "id": "7fc02d34-64db-4456-9b14-bfcd8b0db7b0",
   "metadata": {},
   "outputs": [
    {
     "name": "stdout",
     "output_type": "stream",
     "text": [
      "Feed me\n"
     ]
    }
   ],
   "source": [
    "hungry = True\n",
    "\n",
    "if hungry:\n",
    "    print('Feed me')\n",
    "else:\n",
    "    print('I am not hungry')"
   ]
  },
  {
   "cell_type": "code",
   "execution_count": 158,
   "id": "7cea363d-d71f-486e-9bcb-bdb9aa289e72",
   "metadata": {},
   "outputs": [
    {
     "name": "stdout",
     "output_type": "stream",
     "text": [
      "Money\n"
     ]
    }
   ],
   "source": [
    "loc = 'Bank'\n",
    "\n",
    "if loc == 'Auto':\n",
    "    print('Cars')\n",
    "elif loc == 'Bank':\n",
    "    print('Money')\n",
    "elif loc == 'Cafe':\n",
    "    print('Coffee')\n",
    "else:\n",
    "    print('None')"
   ]
  },
  {
   "cell_type": "markdown",
   "id": "f3ce4fdf-0607-4bf1-a449-1330b6e6c95c",
   "metadata": {},
   "source": [
    "#### For Loops"
   ]
  },
  {
   "cell_type": "code",
   "execution_count": 159,
   "id": "7047a185-bcc1-4073-8c79-472dd98c987a",
   "metadata": {},
   "outputs": [],
   "source": [
    "# Syntax:\n",
    "# my_iterable = [1,2,3]\n",
    "# for item_name in my_iterable:\n",
    "#     print(item_name)"
   ]
  },
  {
   "cell_type": "code",
   "execution_count": 2,
   "id": "1de5864a-59fe-4902-8cc1-a67497e2786d",
   "metadata": {},
   "outputs": [
    {
     "name": "stdout",
     "output_type": "stream",
     "text": [
      "1\n",
      "2\n",
      "3\n",
      "4\n",
      "5\n",
      "6\n",
      "7\n",
      "8\n",
      "9\n",
      "10\n"
     ]
    }
   ],
   "source": [
    "listtt = [1,2,3,4,5,6,7,8,9,10]\n",
    "\n",
    "for x in listtt:\n",
    "    print(x)"
   ]
  },
  {
   "cell_type": "code",
   "execution_count": 3,
   "id": "96fddc50-87c9-418b-b015-074933d71bb7",
   "metadata": {},
   "outputs": [
    {
     "name": "stdout",
     "output_type": "stream",
     "text": [
      "number\n",
      "number\n",
      "number\n",
      "number\n",
      "number\n",
      "number\n",
      "number\n",
      "number\n",
      "number\n",
      "number\n"
     ]
    }
   ],
   "source": [
    "for a in listtt:\n",
    "    print(\"number\")"
   ]
  },
  {
   "cell_type": "code",
   "execution_count": 4,
   "id": "c67f4dd3-11f9-4af3-964b-b7bfc3fb051e",
   "metadata": {},
   "outputs": [
    {
     "name": "stdout",
     "output_type": "stream",
     "text": [
      "2\n",
      "4\n",
      "6\n",
      "8\n",
      "10\n"
     ]
    }
   ],
   "source": [
    "for num in listtt:\n",
    "    if num % 2 == 0:\n",
    "        print(num)"
   ]
  },
  {
   "cell_type": "code",
   "execution_count": 5,
   "id": "31176127-fd1c-40fb-b77d-2f068cd8e973",
   "metadata": {},
   "outputs": [
    {
     "name": "stdout",
     "output_type": "stream",
     "text": [
      "not even\n",
      "odd num: 2\n",
      "not even\n",
      "odd num: 4\n",
      "not even\n",
      "odd num: 6\n",
      "not even\n",
      "odd num: 8\n",
      "not even\n",
      "odd num: 10\n"
     ]
    }
   ],
   "source": [
    "for num in listtt:\n",
    "    if num % 2 == 0:\n",
    "        print(f'odd num: {num}')\n",
    "    else:\n",
    "        print(\"not even\")"
   ]
  },
  {
   "cell_type": "code",
   "execution_count": 6,
   "id": "b82587e9-f665-44af-97dc-3132d72baf17",
   "metadata": {},
   "outputs": [
    {
     "ename": "TypeError",
     "evalue": "can only concatenate list (not \"int\") to list",
     "output_type": "error",
     "traceback": [
      "\u001b[0;31m---------------------------------------------------------------------------\u001b[0m",
      "\u001b[0;31mTypeError\u001b[0m                                 Traceback (most recent call last)",
      "\u001b[0;32m<ipython-input-6-70384f921e57>\u001b[0m in \u001b[0;36m<module>\u001b[0;34m\u001b[0m\n\u001b[1;32m      2\u001b[0m \u001b[0;34m\u001b[0m\u001b[0m\n\u001b[1;32m      3\u001b[0m \u001b[0;32mfor\u001b[0m \u001b[0mnum\u001b[0m \u001b[0;32min\u001b[0m \u001b[0mlisttt\u001b[0m\u001b[0;34m:\u001b[0m\u001b[0;34m\u001b[0m\u001b[0;34m\u001b[0m\u001b[0m\n\u001b[0;32m----> 4\u001b[0;31m     \u001b[0mlist_sum\u001b[0m \u001b[0;34m=\u001b[0m \u001b[0mlisttt\u001b[0m \u001b[0;34m+\u001b[0m \u001b[0mnum\u001b[0m\u001b[0;34m\u001b[0m\u001b[0;34m\u001b[0m\u001b[0m\n\u001b[0m\u001b[1;32m      5\u001b[0m \u001b[0;34m\u001b[0m\u001b[0m\n\u001b[1;32m      6\u001b[0m \u001b[0mprint\u001b[0m\u001b[0;34m(\u001b[0m\u001b[0mlist_sum\u001b[0m\u001b[0;34m)\u001b[0m\u001b[0;34m\u001b[0m\u001b[0;34m\u001b[0m\u001b[0m\n",
      "\u001b[0;31mTypeError\u001b[0m: can only concatenate list (not \"int\") to list"
     ]
    }
   ],
   "source": [
    "list_sum = 0\n",
    "\n",
    "for num in listtt:\n",
    "    list_sum = listtt + num\n",
    "\n",
    "print(list_sum)"
   ]
  },
  {
   "cell_type": "code",
   "execution_count": 7,
   "id": "428fd560-0231-435f-8fed-2f8f9b75931d",
   "metadata": {},
   "outputs": [
    {
     "name": "stdout",
     "output_type": "stream",
     "text": [
      "apple\n",
      "banana\n",
      "cherry\n",
      "kiwi\n",
      "mango\n",
      "3\n"
     ]
    }
   ],
   "source": [
    "fruits = [\"apple\", \"banana\", \"cherry\", \"kiwi\", \"mango\"]\n",
    "count = 0 \n",
    "\n",
    "for x in fruits:\n",
    "    print(x)\n",
    "    if \"a\" in x:\n",
    "        count = count + 1\n",
    "        \n",
    "print(count)"
   ]
  },
  {
   "cell_type": "code",
   "execution_count": 8,
   "id": "9bf6f158-f4c0-4649-abc7-bf0358dcb4e3",
   "metadata": {},
   "outputs": [
    {
     "name": "stdout",
     "output_type": "stream",
     "text": [
      "2\n",
      "4\n",
      "6\n",
      "8\n",
      "10\n",
      "12\n",
      "14\n",
      "16\n",
      "18\n"
     ]
    }
   ],
   "source": [
    "# In the above output you get a numbers incremented by 1, what if I want it to increment by 2\n",
    "\n",
    "for val in range(2,20,2):\n",
    "    print(val)"
   ]
  },
  {
   "cell_type": "code",
   "execution_count": 9,
   "id": "2fa96e46-d9d2-414f-b196-3ee9d9895071",
   "metadata": {},
   "outputs": [
    {
     "name": "stdout",
     "output_type": "stream",
     "text": [
      "0\n",
      "1\n",
      "2\n",
      "3\n",
      "4\n",
      "5\n",
      "Finally finished!\n"
     ]
    }
   ],
   "source": [
    "# using else in for loop\n",
    "\n",
    "for v in range(6):\n",
    "    print(v)\n",
    "else:\n",
    "    print(\"Finally finished!\")"
   ]
  },
  {
   "cell_type": "code",
   "execution_count": 17,
   "id": "69b32a3d-038c-4101-908a-447bb6691bca",
   "metadata": {},
   "outputs": [
    {
     "name": "stdout",
     "output_type": "stream",
     "text": [
      "55\n",
      "10\n"
     ]
    }
   ],
   "source": [
    "# Calculate sum of the list and count in the list\n",
    "\n",
    "#listtt = [1,2,3,4,5,6,7,8,9,10]\n",
    "\n",
    "\n",
    "list_sum = 0\n",
    "count = 0 \n",
    "\n",
    "for num in listtt:\n",
    "    list_sum = list_sum + num\n",
    "    count = count + 1\n",
    "    \n",
    "print(list_sum)\n",
    "print(count)"
   ]
  },
  {
   "cell_type": "code",
   "execution_count": 18,
   "id": "230e5119-dde2-490c-a5c9-0c0c171e818c",
   "metadata": {},
   "outputs": [
    {
     "name": "stdout",
     "output_type": "stream",
     "text": [
      "3628800\n"
     ]
    }
   ],
   "source": [
    "# Calculate the product of the numbers in the list\n",
    "\n",
    "list_prod = 1\n",
    "\n",
    "for num in listtt:\n",
    "    list_prod = list_prod * num\n",
    "    \n",
    "print(list_prod)"
   ]
  },
  {
   "cell_type": "code",
   "execution_count": 21,
   "id": "e2bda582-c007-4d7f-b346-4ae82a40f752",
   "metadata": {},
   "outputs": [
    {
     "name": "stdout",
     "output_type": "stream",
     "text": [
      "5\n",
      "5\n"
     ]
    }
   ],
   "source": [
    "# Count even and odd numbers in the listtt\n",
    "\n",
    "even_cnt = 0\n",
    "odd_cnt = 0\n",
    "\n",
    "for num in listtt:\n",
    "    if num%2 == 0:\n",
    "        even_cnt = even_cnt + 1\n",
    "    if num%2 != 0:\n",
    "        odd_cnt = odd_cnt + 1\n",
    "\n",
    "print(even_cnt)\n",
    "print(odd_cnt)       "
   ]
  },
  {
   "cell_type": "code",
   "execution_count": null,
   "id": "d6d8efb5-9e4b-4f25-82c3-cbd9b31fc69e",
   "metadata": {},
   "outputs": [],
   "source": []
  }
 ],
 "metadata": {
  "kernelspec": {
   "display_name": "Python 3",
   "language": "python",
   "name": "python3"
  },
  "language_info": {
   "codemirror_mode": {
    "name": "ipython",
    "version": 3
   },
   "file_extension": ".py",
   "mimetype": "text/x-python",
   "name": "python",
   "nbconvert_exporter": "python",
   "pygments_lexer": "ipython3",
   "version": "3.9.5"
  }
 },
 "nbformat": 4,
 "nbformat_minor": 5
}
