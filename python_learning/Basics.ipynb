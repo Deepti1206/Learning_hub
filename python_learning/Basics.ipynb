{
 "cells": [
  {
   "cell_type": "markdown",
   "id": "6d0e28ba-1acc-445e-9304-440832025c35",
   "metadata": {},
   "source": [
    "This is a Notebook for practicing different **python** codes"
   ]
  },
  {
   "cell_type": "code",
   "execution_count": 1,
   "id": "8cb2d6c7-94e0-4e89-9050-16f2f81c7586",
   "metadata": {},
   "outputs": [
    {
     "name": "stdout",
     "output_type": "stream",
     "text": [
      "Hello, Dipti\n"
     ]
    }
   ],
   "source": [
    "# print a string saying 'Hello, Dipti'\n",
    "# When you want to write comments, you can use '#', the script \n",
    "# that starts with '#' is not considered for running command\n",
    "\n",
    "print(\"Hello, Dipti\")"
   ]
  },
  {
   "cell_type": "markdown",
   "id": "6fae9afa-2c35-4f05-a26e-3a9c25ee2563",
   "metadata": {},
   "source": [
    "#### Mutable and Immutable datatype"
   ]
  },
  {
   "cell_type": "markdown",
   "id": "6791a042-ad6a-45a4-bf30-1a6053864fe3",
   "metadata": {},
   "source": [
    "Mutable datatypes: datatypes that can be edited. Examples are **list and dictionary**"
   ]
  },
  {
   "cell_type": "markdown",
   "id": "5a6470c0-8a12-4036-84c2-dff39dfb8e32",
   "metadata": {},
   "source": [
    "#### List"
   ]
  },
  {
   "cell_type": "code",
   "execution_count": 14,
   "id": "2826ed71-96fc-432a-9d4f-03eb296d0676",
   "metadata": {},
   "outputs": [
    {
     "name": "stdout",
     "output_type": "stream",
     "text": [
      "[1, 2, 3]\n"
     ]
    }
   ],
   "source": [
    "# List\n",
    "\n",
    "list1 = [1,2,3]\n",
    "print(list1)\n"
   ]
  },
  {
   "cell_type": "code",
   "execution_count": 15,
   "id": "c97adcc8-eaa8-4650-80cb-e811c504dde0",
   "metadata": {},
   "outputs": [
    {
     "name": "stdout",
     "output_type": "stream",
     "text": [
      "[8, 2, 3]\n"
     ]
    }
   ],
   "source": [
    "list1[0] = 8   # we replaced position '0' which is 1 with 8, it is editable\n",
    "print(list1)"
   ]
  },
  {
   "cell_type": "code",
   "execution_count": 16,
   "id": "e07b53e2-f6b6-467f-b50c-cc75a7b275f6",
   "metadata": {},
   "outputs": [
    {
     "data": {
      "text/plain": [
       "[8, 'Dipti', 2, 3]"
      ]
     },
     "execution_count": 16,
     "metadata": {},
     "output_type": "execute_result"
    }
   ],
   "source": [
    "# Insert items in list\n",
    "\n",
    "list1.insert(1,\"Dipti\")\n",
    "list1"
   ]
  },
  {
   "cell_type": "code",
   "execution_count": 17,
   "id": "81f885b1-9500-4ada-ac26-44d5101bea72",
   "metadata": {},
   "outputs": [
    {
     "data": {
      "text/plain": [
       "[8, 'Dipti', 2, 3, 7, 8, 9]"
      ]
     },
     "execution_count": 17,
     "metadata": {},
     "output_type": "execute_result"
    }
   ],
   "source": [
    "# Extend list\n",
    "\n",
    "list2 = [7,8,9]\n",
    "\n",
    "list1.extend(list2)\n",
    "list1"
   ]
  },
  {
   "cell_type": "code",
   "execution_count": 18,
   "id": "f3b026fb-cfb9-459e-9012-516bd26efd4b",
   "metadata": {},
   "outputs": [
    {
     "data": {
      "text/plain": [
       "[8, 2, 3, 7, 8, 9]"
      ]
     },
     "execution_count": 18,
     "metadata": {},
     "output_type": "execute_result"
    }
   ],
   "source": [
    "# Remove list items\n",
    "\n",
    "list1.remove(\"Dipti\")\n",
    "list1"
   ]
  },
  {
   "cell_type": "code",
   "execution_count": 19,
   "id": "36790eb1-619a-4842-8553-061e0501914f",
   "metadata": {},
   "outputs": [
    {
     "data": {
      "text/plain": [
       "[2, 3, 7, 8, 9]"
      ]
     },
     "execution_count": 19,
     "metadata": {},
     "output_type": "execute_result"
    }
   ],
   "source": [
    "# Remove specified index, alternative is 'del'\n",
    "\n",
    "# del list1[0]\n",
    "\n",
    "# list1.clear()  will clear the list\n",
    "\n",
    "list1.pop(0)\n",
    "list1"
   ]
  },
  {
   "cell_type": "code",
   "execution_count": 20,
   "id": "e71e95e3-7fcb-47f5-9ddb-12bf017465a7",
   "metadata": {},
   "outputs": [],
   "source": [
    "# Sorting the list\n",
    "\n",
    "list3 = [1,6,4,5]\n",
    "list1.extend(list3)"
   ]
  },
  {
   "cell_type": "code",
   "execution_count": 21,
   "id": "284793e0-d7cc-4125-afc2-0857f343ce65",
   "metadata": {},
   "outputs": [
    {
     "data": {
      "text/plain": [
       "[1, 2, 3, 4, 5, 6, 7, 8, 9]"
      ]
     },
     "execution_count": 21,
     "metadata": {},
     "output_type": "execute_result"
    }
   ],
   "source": [
    "list1.sort()\n",
    "list1"
   ]
  },
  {
   "cell_type": "code",
   "execution_count": 22,
   "id": "f190a335-77de-45be-908a-3a263c8537ed",
   "metadata": {},
   "outputs": [
    {
     "data": {
      "text/plain": [
       "[9, 8, 7, 6, 5, 4, 3, 2, 1]"
      ]
     },
     "execution_count": 22,
     "metadata": {},
     "output_type": "execute_result"
    }
   ],
   "source": [
    "# sort list in descending\n",
    "\n",
    "list1.sort(reverse = True)\n",
    "list1"
   ]
  },
  {
   "cell_type": "code",
   "execution_count": 23,
   "id": "7c7ca725-76c6-4dad-84c2-b4f5de1a8d12",
   "metadata": {},
   "outputs": [
    {
     "name": "stdout",
     "output_type": "stream",
     "text": [
      "[9, 8, 7, 6, 5, 4, 3, 2, 1]\n"
     ]
    }
   ],
   "source": [
    "# Copying list\n",
    "\n",
    "# copy_list = list1.copy()\n",
    "# print(copy_list)\n",
    "\n",
    "copy_list = list1  #if we use a=b, the changes made in a will reflect on b, \n",
    "                   #in order to avoid that we use copy method\n",
    "\n",
    "copy_new_list = list1.copy()\n",
    "print(copy_new_list)"
   ]
  },
  {
   "cell_type": "code",
   "execution_count": 24,
   "id": "a8605d9c-dcf5-453b-9fd6-d1644183586a",
   "metadata": {},
   "outputs": [
    {
     "data": {
      "text/plain": [
       "[1, 2, 3, 4, 5, 6, 7, 8, 9]"
      ]
     },
     "execution_count": 24,
     "metadata": {},
     "output_type": "execute_result"
    }
   ],
   "source": [
    "list1.sort()\n",
    "list1"
   ]
  },
  {
   "cell_type": "code",
   "execution_count": 25,
   "id": "a26c287d-0943-4907-bdeb-fc67747308cf",
   "metadata": {},
   "outputs": [
    {
     "data": {
      "text/plain": [
       "[9, 8, 7, 6, 5, 4, 3, 2, 1]"
      ]
     },
     "execution_count": 25,
     "metadata": {},
     "output_type": "execute_result"
    }
   ],
   "source": [
    "copy_new_list"
   ]
  },
  {
   "cell_type": "code",
   "execution_count": 26,
   "id": "2f09637f-f7bb-44e1-9d0d-9fcc7726a398",
   "metadata": {},
   "outputs": [
    {
     "data": {
      "text/plain": [
       "[1, 2, 3, 4, 5, 6, 7, 8, 9, 9, 8, 7, 6, 5, 4, 3, 2, 1]"
      ]
     },
     "execution_count": 26,
     "metadata": {},
     "output_type": "execute_result"
    }
   ],
   "source": [
    "# Lists can be joined by using +\n",
    "\n",
    "list3 = list1 + copy_new_list\n",
    "list3"
   ]
  },
  {
   "cell_type": "code",
   "execution_count": 27,
   "id": "1e3192ce-d253-4d3e-8df2-a70aa386186d",
   "metadata": {},
   "outputs": [
    {
     "data": {
      "text/plain": [
       "[11, 12, 13, 14, [1, 2, 3, 4, 5, 6, 7, 8, 9]]"
      ]
     },
     "execution_count": 27,
     "metadata": {},
     "output_type": "execute_result"
    }
   ],
   "source": [
    "# We can create list in a list\n",
    "\n",
    "list5 = [11,12,13,14, list1]\n",
    "list5"
   ]
  },
  {
   "cell_type": "code",
   "execution_count": 28,
   "id": "3d58d066-d2ef-44de-be69-c3e34b369aaa",
   "metadata": {},
   "outputs": [
    {
     "data": {
      "text/plain": [
       "5"
      ]
     },
     "execution_count": 28,
     "metadata": {},
     "output_type": "execute_result"
    }
   ],
   "source": [
    "len(list5)  #still you can see that length of the list is 5 "
   ]
  },
  {
   "cell_type": "code",
   "execution_count": 29,
   "id": "3b60f88a-4aed-4608-b3b2-5b6f5afbecd9",
   "metadata": {},
   "outputs": [
    {
     "data": {
      "text/plain": [
       "[1, 2, 3, 4, 5, 6, 7, 8, 9]"
      ]
     },
     "execution_count": 29,
     "metadata": {},
     "output_type": "execute_result"
    }
   ],
   "source": [
    "list5[4]  # here you can unpack the list"
   ]
  },
  {
   "cell_type": "markdown",
   "id": "2b8555c4-6da9-4fed-8ab2-eab52f3b68cc",
   "metadata": {},
   "source": [
    "#### Dictionary"
   ]
  },
  {
   "cell_type": "code",
   "execution_count": 30,
   "id": "b754137f-c55f-436d-894f-c97ea5aca6c6",
   "metadata": {},
   "outputs": [
    {
     "name": "stdout",
     "output_type": "stream",
     "text": [
      "{'brand': 'Ford', 'electric': False, 'year': 1964, 'colors': ['red', 'white', 'blue']}\n"
     ]
    }
   ],
   "source": [
    "# Dictionary - used to store data values in key:value pair. A dictionary is a collection which is ordered*, \n",
    "# changeable and do not allow duplicates.\n",
    "\n",
    "dict = {\"brand\": \"Ford\",\n",
    "  \"electric\": False,\n",
    "  \"year\": 1964,\n",
    "  \"colors\": [\"red\", \"white\", \"blue\"]    \n",
    "}\n",
    "\n",
    "print(dict)\n"
   ]
  },
  {
   "cell_type": "code",
   "execution_count": 31,
   "id": "7a9b7fd0-8ee1-42eb-8468-19c53f49efde",
   "metadata": {},
   "outputs": [
    {
     "name": "stdout",
     "output_type": "stream",
     "text": [
      "{'brand': 'Ford', 'electric': False, 'year': 1964, 'colors': ['red', 'white', 'blue'], 'type': 'SUV'}\n"
     ]
    }
   ],
   "source": [
    "dict['type']= 'SUV' # we can update the dictionary\n",
    "\n",
    "print(dict)"
   ]
  },
  {
   "cell_type": "code",
   "execution_count": 32,
   "id": "b97b0e19-2a8c-4187-89fd-5d6263a8ecc8",
   "metadata": {},
   "outputs": [
    {
     "name": "stdout",
     "output_type": "stream",
     "text": [
      "{'brand': 'Toyota', 'electric': False, 'year': 1964, 'colors': ['red', 'white', 'blue'], 'type': 'SUV'}\n"
     ]
    }
   ],
   "source": [
    "dict['brand'] = 'Toyota' # here we updated the brand name\n",
    "print(dict)"
   ]
  },
  {
   "cell_type": "markdown",
   "id": "f4843b7e-fdf8-4e70-9653-32c141fafc6d",
   "metadata": {},
   "source": [
    "\n",
    "\n",
    "#### Immutable datatypes: \n",
    "datatypes that can't be edited. **Examples are string and tuple**"
   ]
  },
  {
   "cell_type": "markdown",
   "id": "71010282-5440-410c-bcc1-f2c24fc6ad2b",
   "metadata": {},
   "source": [
    "#### Strings"
   ]
  },
  {
   "cell_type": "code",
   "execution_count": 33,
   "id": "98ba6969-2450-4467-a98f-3dcc2c44c3af",
   "metadata": {},
   "outputs": [
    {
     "name": "stdout",
     "output_type": "stream",
     "text": [
      "Hello Dipti\n"
     ]
    }
   ],
   "source": [
    "string = \"Hello Dipti\"\n",
    "print(string)"
   ]
  },
  {
   "cell_type": "code",
   "execution_count": 34,
   "id": "e0597769-650c-441b-931e-68d837832d70",
   "metadata": {},
   "outputs": [
    {
     "ename": "TypeError",
     "evalue": "'str' object does not support item assignment",
     "output_type": "error",
     "traceback": [
      "\u001b[0;31m---------------------------------------------------------------------------\u001b[0m",
      "\u001b[0;31mTypeError\u001b[0m                                 Traceback (most recent call last)",
      "\u001b[0;32m<ipython-input-34-da8d64b76370>\u001b[0m in \u001b[0;36m<module>\u001b[0;34m\u001b[0m\n\u001b[0;32m----> 1\u001b[0;31m \u001b[0mstring\u001b[0m\u001b[0;34m[\u001b[0m\u001b[0;34m'Hello Dipti'\u001b[0m\u001b[0;34m]\u001b[0m \u001b[0;34m=\u001b[0m \u001b[0;34m'Hello'\u001b[0m\u001b[0;34m\u001b[0m\u001b[0;34m\u001b[0m\u001b[0m\n\u001b[0m",
      "\u001b[0;31mTypeError\u001b[0m: 'str' object does not support item assignment"
     ]
    }
   ],
   "source": [
    "string['Hello Dipti'] = 'Hello'  "
   ]
  },
  {
   "cell_type": "markdown",
   "id": "8b9a589f-3b09-422e-9e88-0398a11dee05",
   "metadata": {},
   "source": [
    "#### Tuples"
   ]
  },
  {
   "cell_type": "code",
   "execution_count": 35,
   "id": "ad2733c8-b63b-4c19-bd8c-4174109d97c8",
   "metadata": {},
   "outputs": [
    {
     "name": "stdout",
     "output_type": "stream",
     "text": [
      "('a', 'b', 'c', 'd')\n"
     ]
    }
   ],
   "source": [
    "# Tuples : Tuples are used to store multiple items in a single variable. \n",
    "#          It is ordered and unchangeable, allows duplicate\n",
    "\n",
    "tuple= ('a','b','c','d')\n",
    "print(tuple)\n"
   ]
  },
  {
   "cell_type": "code",
   "execution_count": 36,
   "id": "fa2759c6-a488-42db-ac1c-465e7a954963",
   "metadata": {},
   "outputs": [
    {
     "ename": "TypeError",
     "evalue": "'tuple' object does not support item assignment",
     "output_type": "error",
     "traceback": [
      "\u001b[0;31m---------------------------------------------------------------------------\u001b[0m",
      "\u001b[0;31mTypeError\u001b[0m                                 Traceback (most recent call last)",
      "\u001b[0;32m<ipython-input-36-e54973dfdf3b>\u001b[0m in \u001b[0;36m<module>\u001b[0;34m\u001b[0m\n\u001b[0;32m----> 1\u001b[0;31m \u001b[0mtuple\u001b[0m\u001b[0;34m[\u001b[0m\u001b[0;36m1\u001b[0m\u001b[0;34m]\u001b[0m \u001b[0;34m=\u001b[0m \u001b[0;34m'z'\u001b[0m\u001b[0;34m\u001b[0m\u001b[0;34m\u001b[0m\u001b[0m\n\u001b[0m\u001b[1;32m      2\u001b[0m \u001b[0mprint\u001b[0m\u001b[0;34m(\u001b[0m\u001b[0mtuple\u001b[0m\u001b[0;34m)\u001b[0m\u001b[0;34m\u001b[0m\u001b[0;34m\u001b[0m\u001b[0m\n",
      "\u001b[0;31mTypeError\u001b[0m: 'tuple' object does not support item assignment"
     ]
    }
   ],
   "source": [
    "tuple[1] = 'z'\n",
    "print(tuple)"
   ]
  },
  {
   "cell_type": "code",
   "execution_count": 37,
   "id": "702d2b25-33a9-4fe5-a27a-4dafbdce644c",
   "metadata": {},
   "outputs": [
    {
     "data": {
      "text/plain": [
       "'c'"
      ]
     },
     "execution_count": 37,
     "metadata": {},
     "output_type": "execute_result"
    }
   ],
   "source": [
    "tuple[2]          #In python, first item has index 0. Index is the position"
   ]
  },
  {
   "cell_type": "code",
   "execution_count": 38,
   "id": "f4a4e0ba-3047-4501-a0d0-636797c32b61",
   "metadata": {},
   "outputs": [
    {
     "data": {
      "text/plain": [
       "'d'"
      ]
     },
     "execution_count": 38,
     "metadata": {},
     "output_type": "execute_result"
    }
   ],
   "source": [
    "# Negative index starts with -1 (first letter when you count backwards)\n",
    "\n",
    "tuple[-1] "
   ]
  },
  {
   "cell_type": "code",
   "execution_count": 39,
   "id": "a9ce5f49-fc3c-4408-8c64-f01f61344e79",
   "metadata": {},
   "outputs": [
    {
     "name": "stdout",
     "output_type": "stream",
     "text": [
      "('c',)\n"
     ]
    }
   ],
   "source": [
    "print(tuple[2:3])  #last number of range is not included"
   ]
  },
  {
   "cell_type": "code",
   "execution_count": 41,
   "id": "e94e6ced-df41-4b93-8ac5-0adf39539d36",
   "metadata": {},
   "outputs": [
    {
     "name": "stdout",
     "output_type": "stream",
     "text": [
      "('a', 'b')\n"
     ]
    }
   ],
   "source": [
    "print(tuple[:2])   #results the items from beginning, but does not include the last index"
   ]
  },
  {
   "cell_type": "code",
   "execution_count": 42,
   "id": "653e0e42-4011-448e-9470-3c8b02f2e08b",
   "metadata": {},
   "outputs": [
    {
     "ename": "TypeError",
     "evalue": "'tuple' object is not callable",
     "output_type": "error",
     "traceback": [
      "\u001b[0;31m---------------------------------------------------------------------------\u001b[0m",
      "\u001b[0;31mTypeError\u001b[0m                                 Traceback (most recent call last)",
      "\u001b[0;32m<ipython-input-42-16b583e4cea4>\u001b[0m in \u001b[0;36m<module>\u001b[0;34m\u001b[0m\n\u001b[1;32m      5\u001b[0m \u001b[0my\u001b[0m \u001b[0;34m=\u001b[0m \u001b[0mlist\u001b[0m\u001b[0;34m(\u001b[0m\u001b[0mx\u001b[0m\u001b[0;34m)\u001b[0m\u001b[0;34m\u001b[0m\u001b[0;34m\u001b[0m\u001b[0m\n\u001b[1;32m      6\u001b[0m \u001b[0my\u001b[0m\u001b[0;34m.\u001b[0m\u001b[0mappend\u001b[0m\u001b[0;34m(\u001b[0m\u001b[0;36m6\u001b[0m\u001b[0;34m)\u001b[0m\u001b[0;34m\u001b[0m\u001b[0;34m\u001b[0m\u001b[0m\n\u001b[0;32m----> 7\u001b[0;31m \u001b[0mx\u001b[0m \u001b[0;34m=\u001b[0m \u001b[0mtuple\u001b[0m\u001b[0;34m(\u001b[0m\u001b[0my\u001b[0m\u001b[0;34m)\u001b[0m\u001b[0;34m\u001b[0m\u001b[0;34m\u001b[0m\u001b[0m\n\u001b[0m\u001b[1;32m      8\u001b[0m \u001b[0mprint\u001b[0m\u001b[0;34m(\u001b[0m\u001b[0mx\u001b[0m\u001b[0;34m)\u001b[0m\u001b[0;34m\u001b[0m\u001b[0;34m\u001b[0m\u001b[0m\n",
      "\u001b[0;31mTypeError\u001b[0m: 'tuple' object is not callable"
     ]
    }
   ],
   "source": [
    "x = (1,2,3,4,5)\n",
    "\n",
    "# add number to tuples (since tuple is not mutable, you need to convert into list and then again into tuple)\n",
    "\n",
    "y = list(x)\n",
    "y.append(6)\n",
    "x = tuple(y)\n",
    "print(x)"
   ]
  },
  {
   "cell_type": "code",
   "execution_count": 43,
   "id": "8ccee344-a143-4193-81b7-8a8595d7f073",
   "metadata": {},
   "outputs": [
    {
     "name": "stdout",
     "output_type": "stream",
     "text": [
      "1\n",
      "2\n",
      "3\n",
      "4\n",
      "5\n"
     ]
    }
   ],
   "source": [
    "for i in range(len(x)):\n",
    "    print(x[i])"
   ]
  },
  {
   "cell_type": "code",
   "execution_count": 46,
   "id": "b9210502-80cc-4bae-bd9d-e727819d1846",
   "metadata": {},
   "outputs": [
    {
     "name": "stdout",
     "output_type": "stream",
     "text": [
      "less than number\n"
     ]
    }
   ],
   "source": [
    "if 3<6:\n",
    "    print(\"less than number\")"
   ]
  },
  {
   "cell_type": "code",
   "execution_count": 47,
   "id": "ac20242e-f1f6-4773-badd-33a37c3d8e24",
   "metadata": {},
   "outputs": [],
   "source": [
    "my_var = \"John\"\n",
    "\n",
    "## my var = \"John\"  # this will fetch error"
   ]
  },
  {
   "cell_type": "code",
   "execution_count": 48,
   "id": "695ce0e7-16f9-4645-9d1f-b8b99a52b8e1",
   "metadata": {},
   "outputs": [
    {
     "name": "stdout",
     "output_type": "stream",
     "text": [
      "apple\n",
      "banana\n",
      "orange\n"
     ]
    }
   ],
   "source": [
    "fruits = [\"apple\",\"banana\",\"orange\"]\n",
    "x,y,z = fruits\n",
    "\n",
    "print(x)\n",
    "print(y)\n",
    "print(z)"
   ]
  },
  {
   "cell_type": "markdown",
   "id": "4ccc9277-5b25-43c1-9b85-8e8afaa703ac",
   "metadata": {},
   "source": [
    "#### Loops in python"
   ]
  },
  {
   "cell_type": "markdown",
   "id": "1306339b-5349-4d2e-8ada-2ebf6f30d404",
   "metadata": {},
   "source": [
    "There are 2 loop commands: \"while\" and \"for\"\n",
    "\n",
    "- while : executable as long as condition is true   \n",
    "- for : used to iterating over a sequence"
   ]
  },
  {
   "cell_type": "code",
   "execution_count": 49,
   "id": "13d9f8b1-b40c-420b-8b06-a505eae94961",
   "metadata": {},
   "outputs": [
    {
     "name": "stdout",
     "output_type": "stream",
     "text": [
      "a\n",
      "p\n",
      "p\n",
      "l\n",
      "e\n"
     ]
    }
   ],
   "source": [
    "# Intro to loop\n",
    "\n",
    "x\n",
    "\n",
    "for y in x:\n",
    "    print(y)"
   ]
  },
  {
   "cell_type": "code",
   "execution_count": 50,
   "id": "39d83a6c-1fb7-4e60-a70b-4c604cf89af1",
   "metadata": {},
   "outputs": [
    {
     "name": "stdout",
     "output_type": "stream",
     "text": [
      "apple\n",
      "banana\n",
      "cherry\n",
      "kiwi\n",
      "mango\n",
      "3\n"
     ]
    }
   ],
   "source": [
    "fruits = [\"apple\", \"banana\", \"cherry\", \"kiwi\", \"mango\"]\n",
    "count = 0 \n",
    "\n",
    "for x in fruits:\n",
    "    print(x)\n",
    "    if \"a\" in x:\n",
    "        count = count + 1\n",
    "        \n",
    "print(count)"
   ]
  },
  {
   "cell_type": "code",
   "execution_count": 51,
   "id": "74fb5847-308e-4cae-869f-c1d6ed3a48fc",
   "metadata": {},
   "outputs": [
    {
     "name": "stdout",
     "output_type": "stream",
     "text": [
      "0\n",
      "1\n",
      "2\n",
      "3\n",
      "4\n",
      "5\n"
     ]
    }
   ],
   "source": [
    "for value in range(6):       #prints the value less than 6\n",
    "    print(value)"
   ]
  },
  {
   "cell_type": "code",
   "execution_count": 52,
   "id": "dd3e7f26-3710-4dcc-a22f-6a65858a6158",
   "metadata": {},
   "outputs": [
    {
     "name": "stdout",
     "output_type": "stream",
     "text": [
      "2\n",
      "4\n",
      "6\n",
      "8\n",
      "10\n",
      "12\n",
      "14\n",
      "16\n",
      "18\n"
     ]
    }
   ],
   "source": [
    "# In the above output you get a numbers incremented by 1, what if I want it to increment by 2\n",
    "\n",
    "for val in range(2,20,2):\n",
    "    print(val)"
   ]
  },
  {
   "cell_type": "code",
   "execution_count": 53,
   "id": "52ea044c-7ea3-42de-a80e-bf5ba0fdea5a",
   "metadata": {},
   "outputs": [
    {
     "name": "stdout",
     "output_type": "stream",
     "text": [
      "0\n",
      "1\n",
      "2\n",
      "3\n",
      "4\n",
      "5\n",
      "Finally finished!\n"
     ]
    }
   ],
   "source": [
    "# using else in for loop\n",
    "\n",
    "for v in range(6):\n",
    "    print(v)\n",
    "else:\n",
    "    print(\"Finally finished!\")"
   ]
  },
  {
   "cell_type": "markdown",
   "id": "1607fd4a-f1ad-4259-979b-514dd236e7d2",
   "metadata": {},
   "source": [
    "#### **DATATYPES IN PYTHON**\n",
    "\n",
    "1. Integers (int) : 3, 100, 10\n",
    "2. Floating point (float) : 2.3, 9.0. 194.6\n",
    "3. Strings (str) : \"hello\", '4000', \"Deepti\"\n",
    "4. Lists (list) : [10, \"dips\", 3]\n",
    "5. Dictionaries (dict) : {\"key\": \"value\", \"name\", \"Deepti\"}\n",
    "6. Tuples (tup) : (10, \"hello\", 400)\n",
    "7. Sets (set) : {\"a\",\"b\"}\n",
    "8. Booleans (bool) : True or False\n",
    "\n"
   ]
  },
  {
   "cell_type": "markdown",
   "id": "897eb8a2-4a0f-4f14-a08e-7dfb720560ec",
   "metadata": {},
   "source": [
    "#### Numbers"
   ]
  },
  {
   "cell_type": "code",
   "execution_count": 54,
   "id": "0db3d793-d735-446d-a006-cb533af80ca9",
   "metadata": {},
   "outputs": [
    {
     "data": {
      "text/plain": [
       "15.3"
      ]
     },
     "execution_count": 54,
     "metadata": {},
     "output_type": "execute_result"
    }
   ],
   "source": [
    "9+6.3  # Addition"
   ]
  },
  {
   "cell_type": "code",
   "execution_count": 55,
   "id": "a668a94d-8adc-4d91-b676-8d119365b483",
   "metadata": {},
   "outputs": [
    {
     "data": {
      "text/plain": [
       "20"
      ]
     },
     "execution_count": 55,
     "metadata": {},
     "output_type": "execute_result"
    }
   ],
   "source": [
    "100-80 # Subtraction"
   ]
  },
  {
   "cell_type": "code",
   "execution_count": 56,
   "id": "e744b4b5-5515-4609-b6c9-8af1ec9ae978",
   "metadata": {},
   "outputs": [
    {
     "data": {
      "text/plain": [
       "4"
      ]
     },
     "execution_count": 56,
     "metadata": {},
     "output_type": "execute_result"
    }
   ],
   "source": [
    "2*2   # Multiplication"
   ]
  },
  {
   "cell_type": "code",
   "execution_count": 57,
   "id": "bc8534c9-bd4e-4541-b504-d6f0ce4fc3e7",
   "metadata": {},
   "outputs": [
    {
     "data": {
      "text/plain": [
       "1.5"
      ]
     },
     "execution_count": 57,
     "metadata": {},
     "output_type": "execute_result"
    }
   ],
   "source": [
    "3/2"
   ]
  },
  {
   "cell_type": "code",
   "execution_count": 58,
   "id": "cec66efe-aef8-4cfa-a4f4-8c130a759150",
   "metadata": {},
   "outputs": [
    {
     "data": {
      "text/plain": [
       "2.0"
      ]
     },
     "execution_count": 58,
     "metadata": {},
     "output_type": "execute_result"
    }
   ],
   "source": [
    "4/2  # Division"
   ]
  },
  {
   "cell_type": "code",
   "execution_count": 59,
   "id": "29067fdc-1e86-4ecc-8481-7e056029a9f5",
   "metadata": {},
   "outputs": [
    {
     "data": {
      "text/plain": [
       "0"
      ]
     },
     "execution_count": 59,
     "metadata": {},
     "output_type": "execute_result"
    }
   ],
   "source": [
    "4%2 # To know remainder, use MOD operator '%'"
   ]
  },
  {
   "cell_type": "code",
   "execution_count": 60,
   "id": "49a981cd-4a2e-48e3-9c8e-bc1c174b5b79",
   "metadata": {},
   "outputs": [
    {
     "data": {
      "text/plain": [
       "2"
      ]
     },
     "execution_count": 60,
     "metadata": {},
     "output_type": "execute_result"
    }
   ],
   "source": [
    "50%3"
   ]
  },
  {
   "cell_type": "code",
   "execution_count": 61,
   "id": "bb777024-37c3-4536-a7ca-e0fc3693940d",
   "metadata": {},
   "outputs": [
    {
     "data": {
      "text/plain": [
       "8"
      ]
     },
     "execution_count": 61,
     "metadata": {},
     "output_type": "execute_result"
    }
   ],
   "source": [
    "2**3  # Exponetial"
   ]
  },
  {
   "cell_type": "code",
   "execution_count": 96,
   "id": "7d45f153-80d8-4c6e-a519-52a0730e8944",
   "metadata": {},
   "outputs": [
    {
     "name": "stdout",
     "output_type": "stream",
     "text": [
      "28\n"
     ]
    }
   ],
   "source": [
    "print(25^5)"
   ]
  },
  {
   "cell_type": "markdown",
   "id": "f812fc8b-8261-4b89-9731-b67e42c726c0",
   "metadata": {},
   "source": [
    "#### Variable Assignment"
   ]
  },
  {
   "cell_type": "code",
   "execution_count": 63,
   "id": "3a73efbf-5c71-40d7-940d-5c9831e5b207",
   "metadata": {},
   "outputs": [],
   "source": [
    "my_dog = \"Caesar\""
   ]
  },
  {
   "cell_type": "code",
   "execution_count": 64,
   "id": "86c63571-2ba8-4448-b3a6-d723739049d1",
   "metadata": {},
   "outputs": [
    {
     "name": "stdout",
     "output_type": "stream",
     "text": [
      "Caesar\n"
     ]
    }
   ],
   "source": [
    "print(my_dog)"
   ]
  },
  {
   "cell_type": "code",
   "execution_count": 65,
   "id": "6753e0fa-5108-4402-88e9-f939d3668bf4",
   "metadata": {},
   "outputs": [
    {
     "data": {
      "text/plain": [
       "str"
      ]
     },
     "execution_count": 65,
     "metadata": {},
     "output_type": "execute_result"
    }
   ],
   "source": [
    "type(my_dog)"
   ]
  },
  {
   "cell_type": "code",
   "execution_count": 66,
   "id": "f00d8d00-5869-4b10-87a1-0c79aee60f05",
   "metadata": {},
   "outputs": [],
   "source": [
    "a = 2.5"
   ]
  },
  {
   "cell_type": "code",
   "execution_count": 67,
   "id": "96d72244-303a-439a-a718-8fe4f2025be5",
   "metadata": {},
   "outputs": [
    {
     "data": {
      "text/plain": [
       "float"
      ]
     },
     "execution_count": 67,
     "metadata": {},
     "output_type": "execute_result"
    }
   ],
   "source": [
    "type(a)"
   ]
  },
  {
   "cell_type": "code",
   "execution_count": 68,
   "id": "250fb18e-71ae-42ee-9369-564567d52ded",
   "metadata": {},
   "outputs": [
    {
     "name": "stdout",
     "output_type": "stream",
     "text": [
      "615.0\n"
     ]
    }
   ],
   "source": [
    "one_val = 20.5\n",
    "other_val = 30\n",
    "\n",
    "print(one_val * other_val)"
   ]
  },
  {
   "cell_type": "markdown",
   "id": "861414da-f737-46d1-8c6b-f1e726372cbe",
   "metadata": {},
   "source": [
    "#### INDEX in python\n",
    "\n",
    "Character  : h  e  l  l  o  \n",
    "Index      : 0  1  2  3  4  \n",
    "Reverse ind: 0 -4 -3 -2 -1  "
   ]
  },
  {
   "cell_type": "code",
   "execution_count": 69,
   "id": "2c255652-ea3a-451b-a733-99342169af96",
   "metadata": {},
   "outputs": [
    {
     "data": {
      "text/plain": [
       "'hello'"
      ]
     },
     "execution_count": 69,
     "metadata": {},
     "output_type": "execute_result"
    }
   ],
   "source": [
    "# Using single quotation\n",
    "\n",
    "'hello'"
   ]
  },
  {
   "cell_type": "code",
   "execution_count": 70,
   "id": "4bdac73f-ad28-42b4-b0b1-964f9788c206",
   "metadata": {},
   "outputs": [
    {
     "name": "stdout",
     "output_type": "stream",
     "text": [
      "hello\n"
     ]
    }
   ],
   "source": [
    "print('hello')"
   ]
  },
  {
   "cell_type": "code",
   "execution_count": 71,
   "id": "8ee0dff8-a1c3-4d1b-b98a-258184afc271",
   "metadata": {},
   "outputs": [
    {
     "data": {
      "text/plain": [
       "\"I'm going to DC\""
      ]
     },
     "execution_count": 71,
     "metadata": {},
     "output_type": "execute_result"
    }
   ],
   "source": [
    "# Using double quotation when you need to use single quotation in sentence\n",
    "\n",
    "\"I'm going to DC\""
   ]
  },
  {
   "cell_type": "code",
   "execution_count": 72,
   "id": "5c3ebbbb-c4e3-433c-af25-40598bf2adc6",
   "metadata": {},
   "outputs": [
    {
     "data": {
      "text/plain": [
       "'I love dogs'"
      ]
     },
     "execution_count": 72,
     "metadata": {},
     "output_type": "execute_result"
    }
   ],
   "source": [
    "# If you write two sentences, the output will be only the last one\n",
    "\n",
    "'Hi, I am Deepti'\n",
    "'I love dogs'"
   ]
  },
  {
   "cell_type": "code",
   "execution_count": 73,
   "id": "2180cac7-ca6c-4c37-af3f-963c74385ea2",
   "metadata": {},
   "outputs": [
    {
     "name": "stdout",
     "output_type": "stream",
     "text": [
      "Hi, I am Deepti\n",
      "I love dogs\n"
     ]
    }
   ],
   "source": [
    "# If you want to include full sentences, you need to use 'print'\n",
    "\n",
    "print('Hi, I am Deepti')\n",
    "print('I love dogs')\n"
   ]
  },
  {
   "cell_type": "code",
   "execution_count": 74,
   "id": "a22ddcc5-ddcc-4cf3-a62a-6b4deb182e85",
   "metadata": {},
   "outputs": [
    {
     "name": "stdout",
     "output_type": "stream",
     "text": [
      "Hi, \n",
      "I'm Deepti\n"
     ]
    }
   ],
   "source": [
    "# Escape sequence (\\n): If you want to print in different lines\n",
    "\n",
    "print(\"Hi, \\nI'm Deepti\")"
   ]
  },
  {
   "cell_type": "code",
   "execution_count": 75,
   "id": "91f87401-1955-45be-8289-e72e9c619550",
   "metadata": {},
   "outputs": [
    {
     "name": "stdout",
     "output_type": "stream",
     "text": [
      "5\n",
      "10\n"
     ]
    }
   ],
   "source": [
    "# Check the length of string\n",
    "\n",
    "print(len(\"Hello\"))\n",
    "print(len(\"I'm Deepti\"))  #counts the spaces as well"
   ]
  },
  {
   "cell_type": "markdown",
   "id": "2701ea01-e072-4bc4-8b37-20fe1ebe3233",
   "metadata": {},
   "source": [
    "#### String Indexing"
   ]
  },
  {
   "cell_type": "code",
   "execution_count": 76,
   "id": "70942946-9b98-4589-8dfb-936d4f56aa58",
   "metadata": {},
   "outputs": [],
   "source": [
    "string = \"Hello World\""
   ]
  },
  {
   "cell_type": "code",
   "execution_count": 77,
   "id": "720bf7e6-34c2-4af8-8240-fa97a6827233",
   "metadata": {},
   "outputs": [
    {
     "data": {
      "text/plain": [
       "'e'"
      ]
     },
     "execution_count": 77,
     "metadata": {},
     "output_type": "execute_result"
    }
   ],
   "source": [
    "# Let's day I want to grab the second character from string. I can do that by specifying index position\n",
    "# Remember that the positive index starrts from '0' and negative index from '-1'\n",
    "\n",
    "# Extract 'e' from string\n",
    "\n",
    "string[1]"
   ]
  },
  {
   "cell_type": "code",
   "execution_count": 78,
   "id": "793aaf1b-2a17-4aa2-9919-6014ad9d54c6",
   "metadata": {},
   "outputs": [
    {
     "data": {
      "text/plain": [
       "'W'"
      ]
     },
     "execution_count": 78,
     "metadata": {},
     "output_type": "execute_result"
    }
   ],
   "source": [
    "# Extract 'W' from string\n",
    "\n",
    "string[-5]"
   ]
  },
  {
   "cell_type": "markdown",
   "id": "2c8010ad-3163-4bea-aa40-40265b43d6d1",
   "metadata": {},
   "source": [
    "#### String Slicing"
   ]
  },
  {
   "cell_type": "code",
   "execution_count": 79,
   "id": "8ff90d68-e961-4249-9cdb-708d07140b1a",
   "metadata": {},
   "outputs": [
    {
     "data": {
      "text/plain": [
       "'Hello'"
      ]
     },
     "execution_count": 79,
     "metadata": {},
     "output_type": "execute_result"
    }
   ],
   "source": [
    "my_string = \"Hello World, I'm Deepti!\"\n",
    "\n",
    "# Extract \"Hello\" from string. There are two ways: \n",
    "\n",
    "#1. Specify [0:5] - that will extract all letters till 5th position and doesn't include 5th position (stop index). Remember to count from '0'\n",
    "#2. Specify [:5] - That will also do the same. Remember that it cosiders the mentioned index position\n",
    "\n",
    "my_string[:5]"
   ]
  },
  {
   "cell_type": "code",
   "execution_count": 80,
   "id": "5a23114e-fd7c-4fe4-881e-e72a01990a3b",
   "metadata": {},
   "outputs": [
    {
     "data": {
      "text/plain": [
       "\"I'm Deepti!\""
      ]
     },
     "execution_count": 80,
     "metadata": {},
     "output_type": "execute_result"
    }
   ],
   "source": [
    "# Extract \"I'm Deepti!\"\n",
    "\n",
    "# When you are using colon after the index number, that letters will incude the start index position and all later\n",
    "\n",
    "my_string[13:]"
   ]
  },
  {
   "cell_type": "code",
   "execution_count": 81,
   "id": "0ca77955-fe06-4cec-a503-dc5ad83b6896",
   "metadata": {},
   "outputs": [
    {
     "data": {
      "text/plain": [
       "'World'"
      ]
     },
     "execution_count": 81,
     "metadata": {},
     "output_type": "execute_result"
    }
   ],
   "source": [
    "# Extract \"World\"\n",
    "\n",
    "# In this we want 'W' to be first one, therefore we will incude start index 'W' and the stop index as 'd' as it is considered before 11th positiom\n",
    "\n",
    "my_string[6:11]"
   ]
  },
  {
   "cell_type": "code",
   "execution_count": 82,
   "id": "2f4ffafb-fd12-4ffe-8936-877186ec2ca6",
   "metadata": {},
   "outputs": [
    {
     "data": {
      "text/plain": [
       "\"Hello World, I'm Deepti!\""
      ]
     },
     "execution_count": 82,
     "metadata": {},
     "output_type": "execute_result"
    }
   ],
   "source": [
    "# An alternative method o grab everyting in the string - step size\n",
    "\n",
    "# Now this is printing every letters in step H e l l o....\n",
    "\n",
    "my_string[::]"
   ]
  },
  {
   "cell_type": "code",
   "execution_count": 83,
   "id": "f6e1a357-3172-4f5e-954e-b7e6ec84deb3",
   "metadata": {},
   "outputs": [
    {
     "data": {
      "text/plain": [
       "\"HloWrd ' epi\""
      ]
     },
     "execution_count": 83,
     "metadata": {},
     "output_type": "execute_result"
    }
   ],
   "source": [
    "# What if I want to print evry 2 letter in a sequence\n",
    "\n",
    "my_string[::2]"
   ]
  },
  {
   "cell_type": "code",
   "execution_count": 84,
   "id": "768a446e-a832-4416-bf81-5137ac051d43",
   "metadata": {},
   "outputs": [
    {
     "data": {
      "text/plain": [
       "'H dmp'"
      ]
     },
     "execution_count": 84,
     "metadata": {},
     "output_type": "execute_result"
    }
   ],
   "source": [
    "my_string[::5]"
   ]
  },
  {
   "cell_type": "code",
   "execution_count": 85,
   "id": "5339010b-7128-45eb-8303-d3d0c7ab02a1",
   "metadata": {},
   "outputs": [
    {
     "data": {
      "text/plain": [
       "'ceg'"
      ]
     },
     "execution_count": 85,
     "metadata": {},
     "output_type": "execute_result"
    }
   ],
   "source": [
    "# You can also do this =>\n",
    "# [start index : stop index : step size]\n",
    "\n",
    "string2 = \"abcdefghijklm\"\n",
    "\n",
    "string2[2:7:2]"
   ]
  },
  {
   "cell_type": "code",
   "execution_count": 86,
   "id": "0c582fcf-1c38-4f77-a7ba-686387a57d6d",
   "metadata": {},
   "outputs": [],
   "source": [
    "# The operation is performed as follows:\n",
    "\n",
    "# 1. It will first print the letter from start index 2 to stop index 7 = 'cdefg'\n",
    "# 2. I t will perform step function i.e +2 on cdefg = ceg"
   ]
  },
  {
   "cell_type": "code",
   "execution_count": 87,
   "id": "80ecaa1d-6fb0-4c70-9dfa-132722a00683",
   "metadata": {},
   "outputs": [
    {
     "data": {
      "text/plain": [
       "\"!itpeeD m'I ,dlroW olleH\""
      ]
     },
     "execution_count": 87,
     "metadata": {},
     "output_type": "execute_result"
    }
   ],
   "source": [
    "my_string[::-1]"
   ]
  },
  {
   "cell_type": "markdown",
   "id": "4e9ba54e-f61c-4036-86c2-aac4747dc74b",
   "metadata": {},
   "source": [
    "#### Immutability in string"
   ]
  },
  {
   "cell_type": "code",
   "execution_count": 88,
   "id": "91cf96c5-640e-44c8-94de-696eb0029b15",
   "metadata": {},
   "outputs": [],
   "source": [
    "# Let's say I want to replace 'beer' with 'deer' by just changing first letter.\n",
    "# Since strings are immutable meaning that they cannot be edited, you have to use concatenation\n",
    "\n",
    "a = 'beer'"
   ]
  },
  {
   "cell_type": "code",
   "execution_count": 89,
   "id": "69fa2bf4-94fb-4f0e-ae8d-d0d73c197dcc",
   "metadata": {},
   "outputs": [
    {
     "data": {
      "text/plain": [
       "'eer'"
      ]
     },
     "execution_count": 89,
     "metadata": {},
     "output_type": "execute_result"
    }
   ],
   "source": [
    "b = a[1:]\n",
    "b"
   ]
  },
  {
   "cell_type": "code",
   "execution_count": 90,
   "id": "c9e625eb-b745-4dc5-9392-642e98b00e13",
   "metadata": {},
   "outputs": [
    {
     "data": {
      "text/plain": [
       "'deer'"
      ]
     },
     "execution_count": 90,
     "metadata": {},
     "output_type": "execute_result"
    }
   ],
   "source": [
    "c = 'd'+b\n",
    "c"
   ]
  },
  {
   "cell_type": "code",
   "execution_count": 91,
   "id": "4ae78556-426d-4c9a-bc08-bb76ce8377e8",
   "metadata": {},
   "outputs": [
    {
     "data": {
      "text/plain": [
       "'200100'"
      ]
     },
     "execution_count": 91,
     "metadata": {},
     "output_type": "execute_result"
    }
   ],
   "source": [
    "# Another example would be. Creating a number in the form of string\n",
    "\n",
    "'200' + '100'    # This is not equal to 300 as it is a string"
   ]
  },
  {
   "cell_type": "code",
   "execution_count": 92,
   "id": "e4124770-19a3-472a-b834-c3c95304cb1f",
   "metadata": {},
   "outputs": [
    {
     "data": {
      "text/plain": [
       "'BEER'"
      ]
     },
     "execution_count": 92,
     "metadata": {},
     "output_type": "execute_result"
    }
   ],
   "source": [
    "a.upper()"
   ]
  },
  {
   "cell_type": "code",
   "execution_count": 93,
   "id": "6ea4fed5-ec80-4502-ab55-00daa8642d8e",
   "metadata": {},
   "outputs": [
    {
     "data": {
      "text/plain": [
       "['Hello', 'World,', \"I'm\", 'Deepti!']"
      ]
     },
     "execution_count": 93,
     "metadata": {},
     "output_type": "execute_result"
    }
   ],
   "source": [
    "my_string.split()    # splits based on spaces"
   ]
  },
  {
   "cell_type": "code",
   "execution_count": 94,
   "id": "3c0e62d2-c190-42b0-a22f-4b6a2c53d2c8",
   "metadata": {},
   "outputs": [
    {
     "data": {
      "text/plain": [
       "['Hello World, I', 'm Deepti!']"
      ]
     },
     "execution_count": 94,
     "metadata": {},
     "output_type": "execute_result"
    }
   ],
   "source": [
    "my_string.split(\"'\")"
   ]
  },
  {
   "cell_type": "markdown",
   "id": "8e2550e3-972f-4b3f-856b-31fea27fea20",
   "metadata": {},
   "source": [
    "#### Print Formatting with Strings"
   ]
  },
  {
   "cell_type": "markdown",
   "id": "46eb7dfd-8444-4825-ab3a-db9105e38052",
   "metadata": {},
   "source": [
    "#### .format() method"
   ]
  },
  {
   "cell_type": "code",
   "execution_count": 1,
   "id": "20b6fe75-63c3-4d6d-91c6-bd6e63f2d951",
   "metadata": {},
   "outputs": [
    {
     "name": "stdout",
     "output_type": "stream",
     "text": [
      "The roses are red\n"
     ]
    }
   ],
   "source": [
    "\n",
    "\n",
    "# The formatting is used to concatenate parts of a string at desired intervals through point data format\n",
    "# We use {} to fill any data formats\n",
    "\n",
    "print('The roses are {}'.format('red'))"
   ]
  },
  {
   "cell_type": "code",
   "execution_count": 2,
   "id": "607fb0c6-9962-43ac-b5c1-9c68b8a1a237",
   "metadata": {},
   "outputs": [
    {
     "name": "stdout",
     "output_type": "stream",
     "text": [
      "The roses are red, pink, yellow\n"
     ]
    }
   ],
   "source": [
    "print('The roses are {}, {}, {}'.format('red','pink','yellow'))"
   ]
  },
  {
   "cell_type": "code",
   "execution_count": 3,
   "id": "bbbfc6e0-7aa2-46d7-8049-d88daad31521",
   "metadata": {},
   "outputs": [
    {
     "name": "stdout",
     "output_type": "stream",
     "text": [
      "The roses are red, red, red\n"
     ]
    }
   ],
   "source": [
    "print('The roses are {0}, {0}, {0}'.format('red','pink','yellow'))"
   ]
  },
  {
   "cell_type": "code",
   "execution_count": 4,
   "id": "55702b41-d719-4be0-ac63-97d7cfbd20fc",
   "metadata": {},
   "outputs": [
    {
     "name": "stdout",
     "output_type": "stream",
     "text": [
      "The roses are yellow, red, pink\n"
     ]
    }
   ],
   "source": [
    "print('The roses are {2}, {0}, {1}'.format('red','pink','yellow'))"
   ]
  },
  {
   "cell_type": "code",
   "execution_count": 5,
   "id": "a2914e56-c9fd-4ee0-8234-b2bb95660df3",
   "metadata": {},
   "outputs": [
    {
     "name": "stdout",
     "output_type": "stream",
     "text": [
      "The roses are red, pink, yellow\n"
     ]
    }
   ],
   "source": [
    "print('The roses are {r}, {p}, {y}'.format(r='red',p='pink',y='yellow'))   #specifying using variable assignment, better than index position"
   ]
  },
  {
   "cell_type": "markdown",
   "id": "096ca466-a00d-40e0-80ac-87787b8c3a40",
   "metadata": {},
   "source": [
    "#### float .format() method"
   ]
  },
  {
   "cell_type": "code",
   "execution_count": 6,
   "id": "cf2cee7c-3d27-43ec-9e3a-e956c20f180d",
   "metadata": {},
   "outputs": [],
   "source": [
    "result = 100/777"
   ]
  },
  {
   "cell_type": "code",
   "execution_count": 7,
   "id": "00a91000-ad95-4f05-b482-0edd0d87159a",
   "metadata": {},
   "outputs": [
    {
     "data": {
      "text/plain": [
       "0.1287001287001287"
      ]
     },
     "execution_count": 7,
     "metadata": {},
     "output_type": "execute_result"
    }
   ],
   "source": [
    "result"
   ]
  },
  {
   "cell_type": "code",
   "execution_count": 8,
   "id": "5798111f-6bb3-46d7-8637-bedd8009a24c",
   "metadata": {},
   "outputs": [
    {
     "name": "stdout",
     "output_type": "stream",
     "text": [
      "The result was 0.1287001287001287\n"
     ]
    }
   ],
   "source": [
    "print(\"The result was {r}\".format(r=result))"
   ]
  },
  {
   "cell_type": "code",
   "execution_count": 9,
   "id": "509a7bdf-5cd6-45d4-ac33-d2c23a05182c",
   "metadata": {},
   "outputs": [
    {
     "name": "stdout",
     "output_type": "stream",
     "text": [
      "The result was 0.129\n"
     ]
    }
   ],
   "source": [
    "# What if you want decimal to be in a specific places\n",
    "# \"value:width.precision f\"\n",
    "\n",
    "print(\"The result was {r:1.3f}\".format(r=result))"
   ]
  },
  {
   "cell_type": "code",
   "execution_count": 10,
   "id": "a86ec7d3-de75-4b98-9c3f-e4fe9b26b0c1",
   "metadata": {},
   "outputs": [
    {
     "name": "stdout",
     "output_type": "stream",
     "text": [
      "The result was      0.129\n"
     ]
    }
   ],
   "source": [
    "print(\"The result was {r:10.3f}\".format(r=result))   #width just adds space before the number"
   ]
  },
  {
   "cell_type": "code",
   "execution_count": 11,
   "id": "24fd1a9c-ccc4-41d3-a35c-d913dafc718d",
   "metadata": {},
   "outputs": [],
   "source": [
    "result2 = 200.45"
   ]
  },
  {
   "cell_type": "code",
   "execution_count": 12,
   "id": "6686589f-4736-48ca-8a30-4e917738fd9c",
   "metadata": {},
   "outputs": [
    {
     "name": "stdout",
     "output_type": "stream",
     "text": [
      "The result was 200.450\n"
     ]
    }
   ],
   "source": [
    "print(\"The result was {r:1.3f}\".format(r=result2))"
   ]
  },
  {
   "cell_type": "markdown",
   "id": "68fdcba9-23b5-45fa-bd0f-d07770bf7add",
   "metadata": {},
   "source": [
    "#### 'f' string method"
   ]
  },
  {
   "cell_type": "code",
   "execution_count": 13,
   "id": "dba0e83f-4dda-430c-8f85-200b68e722a1",
   "metadata": {},
   "outputs": [],
   "source": [
    "# An alternarive method to do formating : 'f' string\n",
    "\n",
    "name = \"Dipti\""
   ]
  },
  {
   "cell_type": "code",
   "execution_count": 14,
   "id": "42113d44-27b2-4da0-9ba4-aafefe343c27",
   "metadata": {},
   "outputs": [
    {
     "name": "stdout",
     "output_type": "stream",
     "text": [
      "Hello, my name is Dipti\n"
     ]
    }
   ],
   "source": [
    "print(f\"Hello, my name is {name}\")"
   ]
  },
  {
   "cell_type": "code",
   "execution_count": 15,
   "id": "f1d81a07-1e74-4a20-9fcc-094b82041eac",
   "metadata": {},
   "outputs": [
    {
     "name": "stdout",
     "output_type": "stream",
     "text": [
      "Her name is Ana and she is 3 years old\n"
     ]
    }
   ],
   "source": [
    "name = \"Ana\"\n",
    "age = 3\n",
    "print(f\"Her name is {name} and she is {age} years old\")"
   ]
  },
  {
   "cell_type": "markdown",
   "id": "271c932a-b46c-4389-8c05-4777ab95e182",
   "metadata": {},
   "source": [
    "#### MUTABLE DATATYPES"
   ]
  },
  {
   "cell_type": "markdown",
   "id": "da6260b1-3203-4b60-8723-5e8ee699cb37",
   "metadata": {},
   "source": [
    "#### Lists"
   ]
  },
  {
   "cell_type": "code",
   "execution_count": 18,
   "id": "f5456982-4ca3-4c26-a86a-1742889d5c82",
   "metadata": {},
   "outputs": [],
   "source": [
    "# Lists are mutable dataypes that stores values in ordered sequence\n",
    "\n",
    "list_1 = [1, \"two\", 3, \"4\", 5, 6]"
   ]
  },
  {
   "cell_type": "code",
   "execution_count": 19,
   "id": "ab3fd45e-7933-4a3b-a68c-ecf7326663a4",
   "metadata": {},
   "outputs": [
    {
     "data": {
      "text/plain": [
       "[1, 'two', 3, '4', 5, 6]"
      ]
     },
     "execution_count": 19,
     "metadata": {},
     "output_type": "execute_result"
    }
   ],
   "source": [
    "list_1"
   ]
  },
  {
   "cell_type": "code",
   "execution_count": 20,
   "id": "509d9496-de56-469d-91a0-6fda5cd8a19e",
   "metadata": {},
   "outputs": [],
   "source": [
    "list_2 = [5,6,8,9]"
   ]
  },
  {
   "cell_type": "code",
   "execution_count": 23,
   "id": "d8a8337f-462c-4a19-aa9c-055ef934b77b",
   "metadata": {},
   "outputs": [
    {
     "data": {
      "text/plain": [
       "[1, 'two', 3, '4', 5, 6, 5, 6, 8, 9]"
      ]
     },
     "execution_count": 23,
     "metadata": {},
     "output_type": "execute_result"
    }
   ],
   "source": [
    "# concatenation\n",
    "\n",
    "list_3 = list_1 + list_2\n",
    "list_3"
   ]
  },
  {
   "cell_type": "code",
   "execution_count": 24,
   "id": "93a4dda7-c469-41fc-b902-538b97e559e2",
   "metadata": {},
   "outputs": [
    {
     "data": {
      "text/plain": [
       "1"
      ]
     },
     "execution_count": 24,
     "metadata": {},
     "output_type": "execute_result"
    }
   ],
   "source": [
    "list_3[0]"
   ]
  },
  {
   "cell_type": "code",
   "execution_count": 25,
   "id": "2cdaf4ba-dce9-4af0-bc39-014b8b4de3d2",
   "metadata": {},
   "outputs": [],
   "source": [
    "list_3[1] =2"
   ]
  },
  {
   "cell_type": "code",
   "execution_count": 26,
   "id": "2e4f0dec-89b6-4d76-9160-55bbc31d9eb7",
   "metadata": {},
   "outputs": [
    {
     "data": {
      "text/plain": [
       "[1, 2, 3, '4', 5, 6, 5, 6, 8, 9]"
      ]
     },
     "execution_count": 26,
     "metadata": {},
     "output_type": "execute_result"
    }
   ],
   "source": [
    "list_3"
   ]
  },
  {
   "cell_type": "code",
   "execution_count": 27,
   "id": "1f4ba38f-6f39-4a1f-a8b3-1898386077af",
   "metadata": {},
   "outputs": [],
   "source": [
    "list_3[3]=4"
   ]
  },
  {
   "cell_type": "code",
   "execution_count": 28,
   "id": "35122697-9360-4895-8bb9-3ff85264bf08",
   "metadata": {},
   "outputs": [
    {
     "data": {
      "text/plain": [
       "[1, 2, 3, 4, 5, 6, 5, 6, 8, 9]"
      ]
     },
     "execution_count": 28,
     "metadata": {},
     "output_type": "execute_result"
    }
   ],
   "source": [
    "list_3"
   ]
  },
  {
   "cell_type": "code",
   "execution_count": 29,
   "id": "8a785dbc-7f52-439e-9ddb-f0a6ff8d2dd1",
   "metadata": {},
   "outputs": [
    {
     "data": {
      "text/plain": [
       "[1, 2, 3, 4, 5]"
      ]
     },
     "execution_count": 29,
     "metadata": {},
     "output_type": "execute_result"
    }
   ],
   "source": [
    "# slicing\n",
    "\n",
    "list_3[:5]"
   ]
  },
  {
   "cell_type": "code",
   "execution_count": 32,
   "id": "65e0e0aa-dc68-4669-9a30-365caf0b76df",
   "metadata": {},
   "outputs": [
    {
     "data": {
      "text/plain": [
       "[2, 4, 6]"
      ]
     },
     "execution_count": 32,
     "metadata": {},
     "output_type": "execute_result"
    }
   ],
   "source": [
    "# step functions\n",
    "\n",
    "list_3[1:7:2]"
   ]
  },
  {
   "cell_type": "code",
   "execution_count": 33,
   "id": "9b93067b-f1dc-419c-b520-6ec80c6b1e09",
   "metadata": {},
   "outputs": [
    {
     "data": {
      "text/plain": [
       "[1, 2, 3, 4, 5, 6, 5, 6, 8, 9, 10]"
      ]
     },
     "execution_count": 33,
     "metadata": {},
     "output_type": "execute_result"
    }
   ],
   "source": [
    "list_3.append(10)\n",
    "list_3"
   ]
  },
  {
   "cell_type": "code",
   "execution_count": 34,
   "id": "a86dc8c8-3b22-43b1-81aa-212dcfacf6fd",
   "metadata": {},
   "outputs": [
    {
     "data": {
      "text/plain": [
       "10"
      ]
     },
     "execution_count": 34,
     "metadata": {},
     "output_type": "execute_result"
    }
   ],
   "source": [
    "# pop() removes the last items, if nothing specified index location is povided under ()\n",
    "\n",
    "list_3.pop()"
   ]
  },
  {
   "cell_type": "code",
   "execution_count": 35,
   "id": "6e3d8814-22cd-463a-a1b5-0d7350296185",
   "metadata": {},
   "outputs": [
    {
     "data": {
      "text/plain": [
       "[1, 2, 3, 4, 5, 6, 5, 6, 8, 9]"
      ]
     },
     "execution_count": 35,
     "metadata": {},
     "output_type": "execute_result"
    }
   ],
   "source": [
    "list_3"
   ]
  },
  {
   "cell_type": "code",
   "execution_count": 37,
   "id": "181610a7-ca6e-4642-b271-161ba94d7af8",
   "metadata": {},
   "outputs": [
    {
     "data": {
      "text/plain": [
       "5"
      ]
     },
     "execution_count": 37,
     "metadata": {},
     "output_type": "execute_result"
    }
   ],
   "source": [
    "list_3.pop(6)"
   ]
  },
  {
   "cell_type": "code",
   "execution_count": 38,
   "id": "08fd2868-5e63-4f6f-9363-4bac6c782e4a",
   "metadata": {},
   "outputs": [
    {
     "data": {
      "text/plain": [
       "[1, 2, 3, 4, 5, 6, 6, 8, 9]"
      ]
     },
     "execution_count": 38,
     "metadata": {},
     "output_type": "execute_result"
    }
   ],
   "source": [
    "list_3"
   ]
  },
  {
   "cell_type": "code",
   "execution_count": 39,
   "id": "f0084d6b-c234-4b8d-a87b-38aef1fe5539",
   "metadata": {},
   "outputs": [
    {
     "data": {
      "text/plain": [
       "6"
      ]
     },
     "execution_count": 39,
     "metadata": {},
     "output_type": "execute_result"
    }
   ],
   "source": [
    "list_3.pop(5)"
   ]
  },
  {
   "cell_type": "code",
   "execution_count": 42,
   "id": "ef3e4a2b-cf41-45de-b76e-c6e2cc93cb33",
   "metadata": {},
   "outputs": [
    {
     "data": {
      "text/plain": [
       "[9, 8, 6, 5, 4, 3, 2, 1]"
      ]
     },
     "execution_count": 42,
     "metadata": {},
     "output_type": "execute_result"
    }
   ],
   "source": [
    "list_3.sort(reverse= True)   #or list_3.reverse()\n",
    "list_3"
   ]
  },
  {
   "cell_type": "markdown",
   "id": "11b21591-94b1-4fa6-b782-51c4b8b0c4a8",
   "metadata": {},
   "source": [
    "#### Dictionaries"
   ]
  },
  {
   "cell_type": "code",
   "execution_count": 1,
   "id": "53216227-9373-4625-b085-52279b36486c",
   "metadata": {},
   "outputs": [],
   "source": [
    "# Dictionarie are the mutable datatypes and contains key:value pair. They are unordered, cant be sorted\n",
    "# {'key1': value1, 'key2' : 'value2'}\n",
    "\n",
    "prices = { 'apple' : '2.99', 'oranges' :1.99, 'milk': 5.80}\n"
   ]
  },
  {
   "cell_type": "code",
   "execution_count": 2,
   "id": "8fe1af6c-8f20-4a8c-8fc5-77989a3a0168",
   "metadata": {},
   "outputs": [
    {
     "data": {
      "text/plain": [
       "{'apple': '2.99', 'oranges': 1.99, 'milk': 5.8}"
      ]
     },
     "execution_count": 2,
     "metadata": {},
     "output_type": "execute_result"
    }
   ],
   "source": [
    "prices"
   ]
  },
  {
   "cell_type": "code",
   "execution_count": 3,
   "id": "153ee911-952d-476d-bd47-5d92fd4d6b3f",
   "metadata": {},
   "outputs": [
    {
     "data": {
      "text/plain": [
       "5.8"
      ]
     },
     "execution_count": 3,
     "metadata": {},
     "output_type": "execute_result"
    }
   ],
   "source": [
    "prices['milk']"
   ]
  },
  {
   "cell_type": "code",
   "execution_count": 4,
   "id": "3621380b-86ba-4de0-aad6-dfd262b4cbd9",
   "metadata": {},
   "outputs": [
    {
     "ename": "KeyError",
     "evalue": "0",
     "output_type": "error",
     "traceback": [
      "\u001b[0;31m---------------------------------------------------------------------------\u001b[0m",
      "\u001b[0;31mKeyError\u001b[0m                                  Traceback (most recent call last)",
      "\u001b[0;32m<ipython-input-4-fdc43499bb9c>\u001b[0m in \u001b[0;36m<module>\u001b[0;34m\u001b[0m\n\u001b[0;32m----> 1\u001b[0;31m \u001b[0mprices\u001b[0m\u001b[0;34m[\u001b[0m\u001b[0;36m0\u001b[0m\u001b[0;34m]\u001b[0m\u001b[0;34m\u001b[0m\u001b[0;34m\u001b[0m\u001b[0m\n\u001b[0m",
      "\u001b[0;31mKeyError\u001b[0m: 0"
     ]
    }
   ],
   "source": [
    "prices[0]  #this doesnt recogmizr index"
   ]
  },
  {
   "cell_type": "code",
   "execution_count": 5,
   "id": "48e09347-e46d-4cf4-a83f-0fa719c28a82",
   "metadata": {},
   "outputs": [],
   "source": [
    "# We can store list inside dictionary\n",
    "\n",
    "d = {'k1': 123, 'k2':[0,1,2,3], 'k3':{'insidekey':100}}"
   ]
  },
  {
   "cell_type": "code",
   "execution_count": 6,
   "id": "6d704373-c452-4703-a6b2-4ec204021cbc",
   "metadata": {},
   "outputs": [
    {
     "data": {
      "text/plain": [
       "{'k1': 123, 'k2': [0, 1, 2, 3], 'k3': {'insidekey': 100}}"
      ]
     },
     "execution_count": 6,
     "metadata": {},
     "output_type": "execute_result"
    }
   ],
   "source": [
    "d"
   ]
  },
  {
   "cell_type": "code",
   "execution_count": 8,
   "id": "39b1e5c6-362a-4538-bcc7-528874f4fcb7",
   "metadata": {},
   "outputs": [
    {
     "data": {
      "text/plain": [
       "[0, 1, 2, 3]"
      ]
     },
     "execution_count": 8,
     "metadata": {},
     "output_type": "execute_result"
    }
   ],
   "source": [
    "d['k2']"
   ]
  },
  {
   "cell_type": "code",
   "execution_count": 12,
   "id": "8667a298-c81b-43d6-aea3-fb27c5f4710e",
   "metadata": {},
   "outputs": [
    {
     "data": {
      "text/plain": [
       "1"
      ]
     },
     "execution_count": 12,
     "metadata": {},
     "output_type": "execute_result"
    }
   ],
   "source": [
    "d['k2'][1]    # since it was a list I can specify index in it"
   ]
  },
  {
   "cell_type": "code",
   "execution_count": 10,
   "id": "4e14456d-f1b2-4e1b-a595-90d83a8b429d",
   "metadata": {},
   "outputs": [
    {
     "data": {
      "text/plain": [
       "100"
      ]
     },
     "execution_count": 10,
     "metadata": {},
     "output_type": "execute_result"
    }
   ],
   "source": [
    "d['k3']['insidekey']"
   ]
  },
  {
   "cell_type": "code",
   "execution_count": 15,
   "id": "f1dd9eeb-a120-4268-9d94-f7fb8ecc9f92",
   "metadata": {},
   "outputs": [
    {
     "data": {
      "text/plain": [
       "{'k1': 450, 'k2': [0, 1, 2, 3], 'k3': {'insidekey': 100}}"
      ]
     },
     "execution_count": 15,
     "metadata": {},
     "output_type": "execute_result"
    }
   ],
   "source": [
    " # Changing the value in key\n",
    "    \n",
    "d['k1']=450\n",
    "d"
   ]
  },
  {
   "cell_type": "code",
   "execution_count": 16,
   "id": "59f28577-b08f-4d84-96ee-0799ea361305",
   "metadata": {},
   "outputs": [
    {
     "data": {
      "text/plain": [
       "{'key1': ['a', 'b', 'c']}"
      ]
     },
     "execution_count": 16,
     "metadata": {},
     "output_type": "execute_result"
    }
   ],
   "source": [
    "key = {'key1':['a','b','c']}\n",
    "key"
   ]
  },
  {
   "cell_type": "code",
   "execution_count": 18,
   "id": "e06f2e3d-f91a-40cc-87e6-02683bb033fd",
   "metadata": {},
   "outputs": [
    {
     "data": {
      "text/plain": [
       "['a', 'b', 'c']"
      ]
     },
     "execution_count": 18,
     "metadata": {},
     "output_type": "execute_result"
    }
   ],
   "source": [
    "# Lets say I want the letter 'c' to be capital, we can do so by \n",
    "\n",
    "mylist = key['key1']\n",
    "mylist"
   ]
  },
  {
   "cell_type": "code",
   "execution_count": 21,
   "id": "5df66171-a929-4e4a-9f87-69452e884bc4",
   "metadata": {},
   "outputs": [
    {
     "data": {
      "text/plain": [
       "'C'"
      ]
     },
     "execution_count": 21,
     "metadata": {},
     "output_type": "execute_result"
    }
   ],
   "source": [
    "c = mylist[2].upper()\n",
    "c"
   ]
  },
  {
   "cell_type": "code",
   "execution_count": 22,
   "id": "c37adb0d-3dd7-4029-baaa-33e9c27ddecd",
   "metadata": {},
   "outputs": [
    {
     "data": {
      "text/plain": [
       "'C'"
      ]
     },
     "execution_count": 22,
     "metadata": {},
     "output_type": "execute_result"
    }
   ],
   "source": [
    "# Other method\n",
    "\n",
    "key['key1'][2].upper()"
   ]
  },
  {
   "cell_type": "code",
   "execution_count": null,
   "id": "e3d0a7c1-57b9-46f5-a373-6fb2d97dc77f",
   "metadata": {},
   "outputs": [],
   "source": [
    "# Adding new key: value pair\n",
    "\n",
    "d"
   ]
  },
  {
   "cell_type": "code",
   "execution_count": 24,
   "id": "01a3654a-de50-4c94-a8ba-4b7be5faa7c3",
   "metadata": {},
   "outputs": [],
   "source": [
    "d['k4'] = 687"
   ]
  },
  {
   "cell_type": "code",
   "execution_count": 25,
   "id": "e22256c4-12e4-4c97-884e-0338e89ad96c",
   "metadata": {},
   "outputs": [
    {
     "data": {
      "text/plain": [
       "{'k1': 450, 'k2': [0, 1, 2, 3], 'k3': {'insidekey': 100}, 'k4': 687}"
      ]
     },
     "execution_count": 25,
     "metadata": {},
     "output_type": "execute_result"
    }
   ],
   "source": [
    "d"
   ]
  },
  {
   "cell_type": "code",
   "execution_count": 26,
   "id": "b216e09f-3638-4a70-b54b-41d1f6069110",
   "metadata": {},
   "outputs": [
    {
     "data": {
      "text/plain": [
       "dict_keys(['k1', 'k2', 'k3', 'k4'])"
      ]
     },
     "execution_count": 26,
     "metadata": {},
     "output_type": "execute_result"
    }
   ],
   "source": [
    "# List the keys in dictionary\n",
    "\n",
    "d.keys()"
   ]
  },
  {
   "cell_type": "code",
   "execution_count": 27,
   "id": "f2e41b7a-8ba3-41a6-9c7d-e00b413b2ae8",
   "metadata": {},
   "outputs": [
    {
     "data": {
      "text/plain": [
       "dict_items([('k1', 450), ('k2', [0, 1, 2, 3]), ('k3', {'insidekey': 100}), ('k4', 687)])"
      ]
     },
     "execution_count": 27,
     "metadata": {},
     "output_type": "execute_result"
    }
   ],
   "source": [
    "# List the items in dictionary\n",
    "\n",
    "d.items()"
   ]
  },
  {
   "cell_type": "markdown",
   "id": "0e8e1388-7ef7-4e26-91c9-c1724d8809a1",
   "metadata": {},
   "source": [
    "#### IMMUTABLE DATATYPES"
   ]
  },
  {
   "cell_type": "markdown",
   "id": "f90123de-d9df-49c1-bef4-c7cafb30fc60",
   "metadata": {},
   "source": [
    "#### Tuples"
   ]
  },
  {
   "cell_type": "code",
   "execution_count": 31,
   "id": "4199cd19-8242-478a-aeb3-0858158d0874",
   "metadata": {},
   "outputs": [
    {
     "data": {
      "text/plain": [
       "(1, 2, 3)"
      ]
     },
     "execution_count": 31,
     "metadata": {},
     "output_type": "execute_result"
    }
   ],
   "source": [
    "# Tupes are similar to lists but they are immutable (cant be reassigned)\n",
    "# syntax (1,2,3)\n",
    "\n",
    "t = (1,2,3)\n",
    "t"
   ]
  },
  {
   "cell_type": "code",
   "execution_count": 32,
   "id": "fbc06ee0-d24a-4b80-82c8-77037573ac93",
   "metadata": {},
   "outputs": [
    {
     "data": {
      "text/plain": [
       "tuple"
      ]
     },
     "execution_count": 32,
     "metadata": {},
     "output_type": "execute_result"
    }
   ],
   "source": [
    "type(t)"
   ]
  },
  {
   "cell_type": "code",
   "execution_count": 33,
   "id": "e1c67306-85c5-4218-bd9c-755db8e62ac1",
   "metadata": {},
   "outputs": [
    {
     "data": {
      "text/plain": [
       "2"
      ]
     },
     "execution_count": 33,
     "metadata": {},
     "output_type": "execute_result"
    }
   ],
   "source": [
    "t[1]"
   ]
  },
  {
   "cell_type": "code",
   "execution_count": 34,
   "id": "887687f7-8fcb-425b-8105-c492c8318e09",
   "metadata": {},
   "outputs": [],
   "source": [
    "t = ('one',2)"
   ]
  },
  {
   "cell_type": "code",
   "execution_count": 35,
   "id": "c7fa9a55-ba2a-49e4-833e-5bd58ac0d0db",
   "metadata": {},
   "outputs": [
    {
     "data": {
      "text/plain": [
       "('one', 2)"
      ]
     },
     "execution_count": 35,
     "metadata": {},
     "output_type": "execute_result"
    }
   ],
   "source": [
    "t"
   ]
  },
  {
   "cell_type": "code",
   "execution_count": 36,
   "id": "7d9134b4-9f8b-42ce-adf6-b4ee6c0bb0c2",
   "metadata": {},
   "outputs": [],
   "source": [
    "t = (1,2,2,4,5,6)"
   ]
  },
  {
   "cell_type": "code",
   "execution_count": 37,
   "id": "49ae3583-04b8-444f-813f-0dbcf9f84c23",
   "metadata": {},
   "outputs": [
    {
     "data": {
      "text/plain": [
       "2"
      ]
     },
     "execution_count": 37,
     "metadata": {},
     "output_type": "execute_result"
    }
   ],
   "source": [
    "# count repeats\n",
    "\n",
    "t.count(2)"
   ]
  },
  {
   "cell_type": "code",
   "execution_count": 38,
   "id": "1dee2ab3-be76-4832-b30b-973e167abef5",
   "metadata": {},
   "outputs": [
    {
     "data": {
      "text/plain": [
       "3"
      ]
     },
     "execution_count": 38,
     "metadata": {},
     "output_type": "execute_result"
    }
   ],
   "source": [
    "# Gives index locations\n",
    "\n",
    "t.index(4)"
   ]
  },
  {
   "cell_type": "code",
   "execution_count": 39,
   "id": "b020af4f-0f69-4b57-8cbf-4401db551d7f",
   "metadata": {},
   "outputs": [
    {
     "ename": "TypeError",
     "evalue": "'tuple' object does not support item assignment",
     "output_type": "error",
     "traceback": [
      "\u001b[0;31m---------------------------------------------------------------------------\u001b[0m",
      "\u001b[0;31mTypeError\u001b[0m                                 Traceback (most recent call last)",
      "\u001b[0;32m<ipython-input-39-90bc2fa5daa8>\u001b[0m in \u001b[0;36m<module>\u001b[0;34m\u001b[0m\n\u001b[1;32m      1\u001b[0m \u001b[0;31m# Can we assign new value in tuple -- No\u001b[0m\u001b[0;34m\u001b[0m\u001b[0;34m\u001b[0m\u001b[0;34m\u001b[0m\u001b[0m\n\u001b[1;32m      2\u001b[0m \u001b[0;34m\u001b[0m\u001b[0m\n\u001b[0;32m----> 3\u001b[0;31m \u001b[0mt\u001b[0m\u001b[0;34m[\u001b[0m\u001b[0;36m3\u001b[0m\u001b[0;34m]\u001b[0m \u001b[0;34m=\u001b[0m \u001b[0;36m9\u001b[0m\u001b[0;34m\u001b[0m\u001b[0;34m\u001b[0m\u001b[0m\n\u001b[0m",
      "\u001b[0;31mTypeError\u001b[0m: 'tuple' object does not support item assignment"
     ]
    }
   ],
   "source": [
    "# Can we assign new value in tuple -- No\n",
    "\n",
    "t[3] = 9"
   ]
  },
  {
   "cell_type": "markdown",
   "id": "aa932e91-7756-4436-a91a-880d35caf07f",
   "metadata": {},
   "source": [
    "#### Sets in Python"
   ]
  },
  {
   "cell_type": "code",
   "execution_count": 41,
   "id": "8e625f58-d3be-4a72-bd71-a1dad092acbc",
   "metadata": {},
   "outputs": [
    {
     "data": {
      "text/plain": [
       "set()"
      ]
     },
     "execution_count": 41,
     "metadata": {},
     "output_type": "execute_result"
    }
   ],
   "source": [
    "# Sets are unordered collection of unique elements\n",
    "\n",
    "set1 = set()\n",
    "set1                 #empty set"
   ]
  },
  {
   "cell_type": "code",
   "execution_count": 43,
   "id": "b00bc867-3ca4-4171-a6f7-d91d9540a33b",
   "metadata": {},
   "outputs": [
    {
     "data": {
      "text/plain": [
       "{1}"
      ]
     },
     "execution_count": 43,
     "metadata": {},
     "output_type": "execute_result"
    }
   ],
   "source": [
    "set1.add(1)\n",
    "set1"
   ]
  },
  {
   "cell_type": "code",
   "execution_count": 45,
   "id": "c08c702b-d935-40ca-9bea-4b792975be35",
   "metadata": {},
   "outputs": [
    {
     "data": {
      "text/plain": [
       "{1, 2}"
      ]
     },
     "execution_count": 45,
     "metadata": {},
     "output_type": "execute_result"
    }
   ],
   "source": [
    "set1.add(2)\n",
    "set1"
   ]
  },
  {
   "cell_type": "code",
   "execution_count": 48,
   "id": "da4c7e29-150f-421f-866d-afd2b8536e71",
   "metadata": {},
   "outputs": [
    {
     "data": {
      "text/plain": [
       "{1, 2}"
      ]
     },
     "execution_count": 48,
     "metadata": {},
     "output_type": "execute_result"
    }
   ],
   "source": [
    "# Lets try adding 2 again\n",
    "\n",
    "set1.add(2)\n",
    "set1             # Did you see dups? No, because they allowe only unique values"
   ]
  },
  {
   "cell_type": "code",
   "execution_count": 49,
   "id": "12799207-00bd-4c36-ac12-1bcc0c632918",
   "metadata": {},
   "outputs": [],
   "source": [
    "list3 = [1,1,1,1,1,2,2,2,2,3,3]"
   ]
  },
  {
   "cell_type": "code",
   "execution_count": 51,
   "id": "93de73d1-ab08-4cc6-81e8-33ebd572001a",
   "metadata": {},
   "outputs": [
    {
     "data": {
      "text/plain": [
       "{1, 2, 3}"
      ]
     },
     "execution_count": 51,
     "metadata": {},
     "output_type": "execute_result"
    }
   ],
   "source": [
    "set(list3)"
   ]
  },
  {
   "cell_type": "markdown",
   "id": "afd47be3-5767-4a9c-af61-c476f32133bb",
   "metadata": {},
   "source": [
    "#### Booleans"
   ]
  },
  {
   "cell_type": "code",
   "execution_count": 52,
   "id": "81555deb-db39-4429-b45e-ecc76112803d",
   "metadata": {},
   "outputs": [
    {
     "data": {
      "text/plain": [
       "False"
      ]
     },
     "execution_count": 52,
     "metadata": {},
     "output_type": "execute_result"
    }
   ],
   "source": [
    "# Logical Operators that allows True or False\n",
    "\n",
    "# In Python, you must write True and False like \"True\" and \"False\". It is case sensitive\n",
    "\n",
    "False"
   ]
  },
  {
   "cell_type": "code",
   "execution_count": 54,
   "id": "2c9db587-4099-4c9b-a94e-a8f9de932a13",
   "metadata": {},
   "outputs": [
    {
     "data": {
      "text/plain": [
       "False"
      ]
     },
     "execution_count": 54,
     "metadata": {},
     "output_type": "execute_result"
    }
   ],
   "source": [
    "1>2"
   ]
  },
  {
   "cell_type": "code",
   "execution_count": 56,
   "id": "af8697d0-c24e-4c1b-becf-04e9f8e13531",
   "metadata": {},
   "outputs": [
    {
     "data": {
      "text/plain": [
       "True"
      ]
     },
     "execution_count": 56,
     "metadata": {},
     "output_type": "execute_result"
    }
   ],
   "source": [
    "5 <10"
   ]
  },
  {
   "cell_type": "code",
   "execution_count": 57,
   "id": "073bdc65-2b3a-4ea9-8b37-78795197a531",
   "metadata": {},
   "outputs": [
    {
     "data": {
      "text/plain": [
       "bool"
      ]
     },
     "execution_count": 57,
     "metadata": {},
     "output_type": "execute_result"
    }
   ],
   "source": [
    "type(True)"
   ]
  },
  {
   "cell_type": "code",
   "execution_count": 58,
   "id": "e4207c75-9ecf-4a48-813b-568119fcdb1c",
   "metadata": {},
   "outputs": [
    {
     "data": {
      "text/plain": [
       "False"
      ]
     },
     "execution_count": 58,
     "metadata": {},
     "output_type": "execute_result"
    }
   ],
   "source": [
    "2 == 4"
   ]
  },
  {
   "cell_type": "code",
   "execution_count": 59,
   "id": "cbdaa130-5b91-44ce-ab0b-142935c0f091",
   "metadata": {},
   "outputs": [],
   "source": [
    "b = None"
   ]
  },
  {
   "cell_type": "code",
   "execution_count": 60,
   "id": "1c895155-c61b-4d07-9eb9-48ab62ed7cbd",
   "metadata": {},
   "outputs": [
    {
     "data": {
      "text/plain": [
       "NoneType"
      ]
     },
     "execution_count": 60,
     "metadata": {},
     "output_type": "execute_result"
    }
   ],
   "source": [
    "type(b)"
   ]
  },
  {
   "cell_type": "code",
   "execution_count": null,
   "id": "93d2d0a0-52a4-44e2-82ed-28f985557855",
   "metadata": {},
   "outputs": [],
   "source": []
  }
 ],
 "metadata": {
  "kernelspec": {
   "display_name": "Python 3",
   "language": "python",
   "name": "python3"
  },
  "language_info": {
   "codemirror_mode": {
    "name": "ipython",
    "version": 3
   },
   "file_extension": ".py",
   "mimetype": "text/x-python",
   "name": "python",
   "nbconvert_exporter": "python",
   "pygments_lexer": "ipython3",
   "version": "3.9.5"
  }
 },
 "nbformat": 4,
 "nbformat_minor": 5
}
