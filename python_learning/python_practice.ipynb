{
 "cells": [
  {
   "cell_type": "markdown",
   "id": "6d0e28ba-1acc-445e-9304-440832025c35",
   "metadata": {},
   "source": [
    "This is a python file for practicing different python codes"
   ]
  },
  {
   "cell_type": "code",
   "execution_count": 35,
   "id": "8cb2d6c7-94e0-4e89-9050-16f2f81c7586",
   "metadata": {},
   "outputs": [
    {
     "name": "stdout",
     "output_type": "stream",
     "text": [
      "Hello, Dipti\n"
     ]
    }
   ],
   "source": [
    "# print a string saying 'Hello, Dipti'\n",
    "# When you want to write comments, you can use '#', the script that starts with '#' is not considered for running command\n",
    "\n",
    "print(\"Hello, Dipti\")"
   ]
  },
  {
   "cell_type": "markdown",
   "id": "6fae9afa-2c35-4f05-a26e-3a9c25ee2563",
   "metadata": {},
   "source": [
    "#### Mutable and Immutable datatype"
   ]
  },
  {
   "cell_type": "markdown",
   "id": "6791a042-ad6a-45a4-bf30-1a6053864fe3",
   "metadata": {},
   "source": [
    "Mutable datatypes: datatypes that can be edited. Examples are list and dictionary"
   ]
  },
  {
   "cell_type": "markdown",
   "id": "5a6470c0-8a12-4036-84c2-dff39dfb8e32",
   "metadata": {},
   "source": [
    "- List"
   ]
  },
  {
   "cell_type": "code",
   "execution_count": 83,
   "id": "2826ed71-96fc-432a-9d4f-03eb296d0676",
   "metadata": {},
   "outputs": [
    {
     "name": "stdout",
     "output_type": "stream",
     "text": [
      "[1, 2, 3]\n"
     ]
    }
   ],
   "source": [
    "# List\n",
    "\n",
    "list1 = [1,2,3]\n",
    "print(list1)\n"
   ]
  },
  {
   "cell_type": "code",
   "execution_count": 84,
   "id": "c97adcc8-eaa8-4650-80cb-e811c504dde0",
   "metadata": {},
   "outputs": [
    {
     "name": "stdout",
     "output_type": "stream",
     "text": [
      "[8, 2, 3]\n"
     ]
    }
   ],
   "source": [
    "list1[0] = 8   # we replaced position '0' which is 1 with 8, it is editable\n",
    "print(list1)"
   ]
  },
  {
   "cell_type": "code",
   "execution_count": 85,
   "id": "e07b53e2-f6b6-467f-b50c-cc75a7b275f6",
   "metadata": {},
   "outputs": [
    {
     "data": {
      "text/plain": [
       "[8, 'Dipti', 2, 3]"
      ]
     },
     "execution_count": 85,
     "metadata": {},
     "output_type": "execute_result"
    }
   ],
   "source": [
    "# Insert items in list\n",
    "\n",
    "list1.insert(1,\"Dipti\")\n",
    "list1"
   ]
  },
  {
   "cell_type": "code",
   "execution_count": 86,
   "id": "81f885b1-9500-4ada-ac26-44d5101bea72",
   "metadata": {},
   "outputs": [
    {
     "data": {
      "text/plain": [
       "[8, 'Dipti', 2, 3, 7, 8, 9]"
      ]
     },
     "execution_count": 86,
     "metadata": {},
     "output_type": "execute_result"
    }
   ],
   "source": [
    "# Extend list\n",
    "\n",
    "list2 = [7,8,9]\n",
    "\n",
    "list1.extend(list2)\n",
    "list1"
   ]
  },
  {
   "cell_type": "code",
   "execution_count": 87,
   "id": "f3b026fb-cfb9-459e-9012-516bd26efd4b",
   "metadata": {},
   "outputs": [
    {
     "data": {
      "text/plain": [
       "[8, 2, 3, 7, 8, 9]"
      ]
     },
     "execution_count": 87,
     "metadata": {},
     "output_type": "execute_result"
    }
   ],
   "source": [
    "# Remove list items\n",
    "\n",
    "list1.remove(\"Dipti\")\n",
    "list1"
   ]
  },
  {
   "cell_type": "code",
   "execution_count": 88,
   "id": "36790eb1-619a-4842-8553-061e0501914f",
   "metadata": {},
   "outputs": [
    {
     "data": {
      "text/plain": [
       "[2, 3, 7, 8, 9]"
      ]
     },
     "execution_count": 88,
     "metadata": {},
     "output_type": "execute_result"
    }
   ],
   "source": [
    "# Remove specified index, alternative is 'del'\n",
    "\n",
    "# del list1[0]\n",
    "\n",
    "# list1.clear()  will clear the list\n",
    "\n",
    "list1.pop(0)\n",
    "list1"
   ]
  },
  {
   "cell_type": "code",
   "execution_count": 89,
   "id": "e71e95e3-7fcb-47f5-9ddb-12bf017465a7",
   "metadata": {},
   "outputs": [],
   "source": [
    "# Sorting the list\n",
    "\n",
    "list3 = [1,6,4,5]\n",
    "list1.extend(list3)"
   ]
  },
  {
   "cell_type": "code",
   "execution_count": 92,
   "id": "284793e0-d7cc-4125-afc2-0857f343ce65",
   "metadata": {},
   "outputs": [
    {
     "data": {
      "text/plain": [
       "[1, 2, 3, 4, 5, 6, 7, 8, 9]"
      ]
     },
     "execution_count": 92,
     "metadata": {},
     "output_type": "execute_result"
    }
   ],
   "source": [
    "list1.sort()\n",
    "list1"
   ]
  },
  {
   "cell_type": "code",
   "execution_count": 93,
   "id": "f190a335-77de-45be-908a-3a263c8537ed",
   "metadata": {},
   "outputs": [
    {
     "data": {
      "text/plain": [
       "[9, 8, 7, 6, 5, 4, 3, 2, 1]"
      ]
     },
     "execution_count": 93,
     "metadata": {},
     "output_type": "execute_result"
    }
   ],
   "source": [
    "# sort list in descending\n",
    "\n",
    "list1.sort(reverse = True)\n",
    "list1"
   ]
  },
  {
   "cell_type": "code",
   "execution_count": 96,
   "id": "7c7ca725-76c6-4dad-84c2-b4f5de1a8d12",
   "metadata": {},
   "outputs": [
    {
     "name": "stdout",
     "output_type": "stream",
     "text": [
      "[9, 8, 7, 6, 5, 4, 3, 2, 1]\n"
     ]
    }
   ],
   "source": [
    "# Copying list\n",
    "\n",
    "# copy_list = list1.copy()\n",
    "# print(copy_list)\n",
    "\n",
    "copy_list = list1  #if we use a=b, the changes made in a will reflect on b, in order to avoid that we use copy method\n",
    "\n",
    "copy_new_list = list1.copy()\n",
    "print(copy_new_list)"
   ]
  },
  {
   "cell_type": "code",
   "execution_count": 97,
   "id": "a8605d9c-dcf5-453b-9fd6-d1644183586a",
   "metadata": {},
   "outputs": [
    {
     "data": {
      "text/plain": [
       "[1, 2, 3, 4, 5, 6, 7, 8, 9]"
      ]
     },
     "execution_count": 97,
     "metadata": {},
     "output_type": "execute_result"
    }
   ],
   "source": [
    "list1.sort()\n",
    "list1"
   ]
  },
  {
   "cell_type": "code",
   "execution_count": 98,
   "id": "a26c287d-0943-4907-bdeb-fc67747308cf",
   "metadata": {},
   "outputs": [
    {
     "data": {
      "text/plain": [
       "[9, 8, 7, 6, 5, 4, 3, 2, 1]"
      ]
     },
     "execution_count": 98,
     "metadata": {},
     "output_type": "execute_result"
    }
   ],
   "source": [
    "copy_new_list"
   ]
  },
  {
   "cell_type": "code",
   "execution_count": 100,
   "id": "2f09637f-f7bb-44e1-9d0d-9fcc7726a398",
   "metadata": {},
   "outputs": [
    {
     "data": {
      "text/plain": [
       "[1, 2, 3, 4, 5, 6, 7, 8, 9, 9, 8, 7, 6, 5, 4, 3, 2, 1]"
      ]
     },
     "execution_count": 100,
     "metadata": {},
     "output_type": "execute_result"
    }
   ],
   "source": [
    "# Lists can be joined by using +\n",
    "\n",
    "list3 = list1 + copy_new_list\n",
    "list3"
   ]
  },
  {
   "cell_type": "code",
   "execution_count": 102,
   "id": "1e3192ce-d253-4d3e-8df2-a70aa386186d",
   "metadata": {},
   "outputs": [
    {
     "data": {
      "text/plain": [
       "[11, 12, 13, 14, [1, 2, 3, 4, 5, 6, 7, 8, 9]]"
      ]
     },
     "execution_count": 102,
     "metadata": {},
     "output_type": "execute_result"
    }
   ],
   "source": [
    "# We can create list in a list\n",
    "\n",
    "list5 = [11,12,13,14, list1]\n",
    "list5"
   ]
  },
  {
   "cell_type": "code",
   "execution_count": 103,
   "id": "3d58d066-d2ef-44de-be69-c3e34b369aaa",
   "metadata": {},
   "outputs": [
    {
     "data": {
      "text/plain": [
       "5"
      ]
     },
     "execution_count": 103,
     "metadata": {},
     "output_type": "execute_result"
    }
   ],
   "source": [
    "len(list5)  #still you can see that length of the list is 5 "
   ]
  },
  {
   "cell_type": "code",
   "execution_count": 105,
   "id": "3b60f88a-4aed-4608-b3b2-5b6f5afbecd9",
   "metadata": {},
   "outputs": [
    {
     "data": {
      "text/plain": [
       "[1, 2, 3, 4, 5, 6, 7, 8, 9]"
      ]
     },
     "execution_count": 105,
     "metadata": {},
     "output_type": "execute_result"
    }
   ],
   "source": [
    "list5[4]  # here you can unpack the list"
   ]
  },
  {
   "cell_type": "markdown",
   "id": "2b8555c4-6da9-4fed-8ab2-eab52f3b68cc",
   "metadata": {},
   "source": [
    "- Dictionary"
   ]
  },
  {
   "cell_type": "code",
   "execution_count": 38,
   "id": "b754137f-c55f-436d-894f-c97ea5aca6c6",
   "metadata": {},
   "outputs": [
    {
     "name": "stdout",
     "output_type": "stream",
     "text": [
      "{'brand': 'Ford', 'electric': False, 'year': 1964, 'colors': ['red', 'white', 'blue']}\n"
     ]
    }
   ],
   "source": [
    "# Dictionary - used to store data values in key:value pair. A dictionary is a collection which is ordered*, changeable and do not allow duplicates.\n",
    "\n",
    "dict = {\"brand\": \"Ford\",\n",
    "  \"electric\": False,\n",
    "  \"year\": 1964,\n",
    "  \"colors\": [\"red\", \"white\", \"blue\"]    \n",
    "}\n",
    "\n",
    "print(dict)\n"
   ]
  },
  {
   "cell_type": "code",
   "execution_count": 39,
   "id": "7a9b7fd0-8ee1-42eb-8468-19c53f49efde",
   "metadata": {},
   "outputs": [
    {
     "name": "stdout",
     "output_type": "stream",
     "text": [
      "{'brand': 'Ford', 'electric': False, 'year': 1964, 'colors': ['red', 'white', 'blue'], 'type': 'SUV'}\n"
     ]
    }
   ],
   "source": [
    "dict['type']= 'SUV' # we can update the dictionary\n",
    "\n",
    "print(dict)"
   ]
  },
  {
   "cell_type": "code",
   "execution_count": 40,
   "id": "b97b0e19-2a8c-4187-89fd-5d6263a8ecc8",
   "metadata": {},
   "outputs": [
    {
     "name": "stdout",
     "output_type": "stream",
     "text": [
      "{'brand': 'Toyota', 'electric': False, 'year': 1964, 'colors': ['red', 'white', 'blue'], 'type': 'SUV'}\n"
     ]
    }
   ],
   "source": [
    "dict['brand'] = 'Toyota' # here we updated the brand name\n",
    "print(dict)"
   ]
  },
  {
   "cell_type": "markdown",
   "id": "f4843b7e-fdf8-4e70-9653-32c141fafc6d",
   "metadata": {},
   "source": [
    "\n",
    "\n",
    "Immutable datatypes: datatypes that can't be edited. Examples are string and tuple"
   ]
  },
  {
   "cell_type": "markdown",
   "id": "71010282-5440-410c-bcc1-f2c24fc6ad2b",
   "metadata": {},
   "source": [
    "- Strings"
   ]
  },
  {
   "cell_type": "code",
   "execution_count": 74,
   "id": "98ba6969-2450-4467-a98f-3dcc2c44c3af",
   "metadata": {},
   "outputs": [
    {
     "name": "stdout",
     "output_type": "stream",
     "text": [
      "Hello Dipti\n"
     ]
    }
   ],
   "source": [
    "string = \"Hello Dipti\"\n",
    "print(string)"
   ]
  },
  {
   "cell_type": "code",
   "execution_count": 75,
   "id": "e0597769-650c-441b-931e-68d837832d70",
   "metadata": {},
   "outputs": [
    {
     "ename": "TypeError",
     "evalue": "'str' object does not support item assignment",
     "output_type": "error",
     "traceback": [
      "\u001b[0;31m---------------------------------------------------------------------------\u001b[0m",
      "\u001b[0;31mTypeError\u001b[0m                                 Traceback (most recent call last)",
      "\u001b[0;32m<ipython-input-75-da8d64b76370>\u001b[0m in \u001b[0;36m<module>\u001b[0;34m\u001b[0m\n\u001b[0;32m----> 1\u001b[0;31m \u001b[0mstring\u001b[0m\u001b[0;34m[\u001b[0m\u001b[0;34m'Hello Dipti'\u001b[0m\u001b[0;34m]\u001b[0m \u001b[0;34m=\u001b[0m \u001b[0;34m'Hello'\u001b[0m\u001b[0;34m\u001b[0m\u001b[0;34m\u001b[0m\u001b[0m\n\u001b[0m",
      "\u001b[0;31mTypeError\u001b[0m: 'str' object does not support item assignment"
     ]
    }
   ],
   "source": [
    "string['Hello Dipti'] = 'Hello'  "
   ]
  },
  {
   "cell_type": "markdown",
   "id": "8b9a589f-3b09-422e-9e88-0398a11dee05",
   "metadata": {},
   "source": [
    "- Tuples"
   ]
  },
  {
   "cell_type": "code",
   "execution_count": null,
   "id": "ad2733c8-b63b-4c19-bd8c-4174109d97c8",
   "metadata": {},
   "outputs": [],
   "source": [
    "# Tuples : Tuples are used to store multiple items in a single variable. It is ordered and unchangeable, allows duplicate\n",
    "\n",
    "tuple= ('a','b','c','d')\n",
    "print(tuple)\n"
   ]
  },
  {
   "cell_type": "code",
   "execution_count": null,
   "id": "fa2759c6-a488-42db-ac1c-465e7a954963",
   "metadata": {},
   "outputs": [],
   "source": [
    "tuple[1] = 'z'\n",
    "print(tuple)"
   ]
  },
  {
   "cell_type": "code",
   "execution_count": null,
   "id": "702d2b25-33a9-4fe5-a27a-4dafbdce644c",
   "metadata": {},
   "outputs": [],
   "source": [
    "tuple[2] #first item has index 0"
   ]
  },
  {
   "cell_type": "code",
   "execution_count": null,
   "id": "f4a4e0ba-3047-4501-a0d0-636797c32b61",
   "metadata": {},
   "outputs": [],
   "source": [
    "# negative index starts with -1 (first letter when you count backwards)\n",
    "\n",
    "tuple[-1] "
   ]
  },
  {
   "cell_type": "code",
   "execution_count": null,
   "id": "a9ce5f49-fc3c-4408-8c64-f01f61344e79",
   "metadata": {},
   "outputs": [],
   "source": [
    "print(tuple[2:3])  #last number of range is not included"
   ]
  },
  {
   "cell_type": "code",
   "execution_count": null,
   "id": "e94e6ced-df41-4b93-8ac5-0adf39539d36",
   "metadata": {},
   "outputs": [],
   "source": [
    "print(tuple[:2]) # results items from beginning to but not included the last index"
   ]
  },
  {
   "cell_type": "code",
   "execution_count": null,
   "id": "653e0e42-4011-448e-9470-3c8b02f2e08b",
   "metadata": {},
   "outputs": [],
   "source": [
    "x = (1,2,3,4,5)\n",
    "\n",
    "# add number to tuples (since tuple is not mutable, you need to convert into list and then again into tuple)\n",
    "\n",
    "y = list(x)\n",
    "y.append(6)\n",
    "x = tuple(y)\n",
    "print(x)"
   ]
  },
  {
   "cell_type": "code",
   "execution_count": 46,
   "id": "8ccee344-a143-4193-81b7-8a8595d7f073",
   "metadata": {},
   "outputs": [
    {
     "name": "stdout",
     "output_type": "stream",
     "text": [
      "1\n",
      "2\n",
      "3\n",
      "4\n",
      "5\n"
     ]
    }
   ],
   "source": [
    "for i in range(len(x)):\n",
    "    print(x[i])"
   ]
  },
  {
   "cell_type": "code",
   "execution_count": 49,
   "id": "b9210502-80cc-4bae-bd9d-e727819d1846",
   "metadata": {},
   "outputs": [
    {
     "name": "stdout",
     "output_type": "stream",
     "text": [
      "less than number\n"
     ]
    }
   ],
   "source": [
    "if 3<6:\n",
    "    print(\"less than number\")"
   ]
  },
  {
   "cell_type": "code",
   "execution_count": 54,
   "id": "ac20242e-f1f6-4773-badd-33a37c3d8e24",
   "metadata": {},
   "outputs": [
    {
     "ename": "SyntaxError",
     "evalue": "invalid syntax (<ipython-input-54-ffb5c73e7820>, line 1)",
     "output_type": "error",
     "traceback": [
      "\u001b[0;36m  File \u001b[0;32m\"<ipython-input-54-ffb5c73e7820>\"\u001b[0;36m, line \u001b[0;32m1\u001b[0m\n\u001b[0;31m    my var = \"John\"\u001b[0m\n\u001b[0m       ^\u001b[0m\n\u001b[0;31mSyntaxError\u001b[0m\u001b[0;31m:\u001b[0m invalid syntax\n"
     ]
    }
   ],
   "source": [
    "my var = \"John\""
   ]
  },
  {
   "cell_type": "code",
   "execution_count": 58,
   "id": "695ce0e7-16f9-4645-9d1f-b8b99a52b8e1",
   "metadata": {},
   "outputs": [
    {
     "name": "stdout",
     "output_type": "stream",
     "text": [
      "apple\n",
      "banana\n"
     ]
    }
   ],
   "source": [
    "fruits = [\"apple\",\"banana\",\"orange\"]\n",
    "x,y,z = fruits\n",
    "\n",
    "print(x)\n",
    "print(y)"
   ]
  },
  {
   "cell_type": "markdown",
   "id": "4ccc9277-5b25-43c1-9b85-8e8afaa703ac",
   "metadata": {},
   "source": [
    "#### Loops in python"
   ]
  },
  {
   "cell_type": "markdown",
   "id": "1306339b-5349-4d2e-8ada-2ebf6f30d404",
   "metadata": {},
   "source": [
    "There are 2 loop commands: \"while\" and \"for\"\n",
    "\n",
    "while - executable as long as condition is true\n",
    "for - used to iterating over a sequence"
   ]
  },
  {
   "cell_type": "code",
   "execution_count": 59,
   "id": "13d9f8b1-b40c-420b-8b06-a505eae94961",
   "metadata": {},
   "outputs": [
    {
     "name": "stdout",
     "output_type": "stream",
     "text": [
      "a\n",
      "p\n",
      "p\n",
      "l\n",
      "e\n"
     ]
    }
   ],
   "source": [
    "# Intro to loop\n",
    "\n",
    "x\n",
    "\n",
    "for y in x:\n",
    "    print(y)"
   ]
  },
  {
   "cell_type": "code",
   "execution_count": 107,
   "id": "39d83a6c-1fb7-4e60-a70b-4c604cf89af1",
   "metadata": {},
   "outputs": [
    {
     "name": "stdout",
     "output_type": "stream",
     "text": [
      "apple\n",
      "banana\n",
      "cherry\n",
      "kiwi\n",
      "mango\n",
      "3\n"
     ]
    }
   ],
   "source": [
    "fruits = [\"apple\", \"banana\", \"cherry\", \"kiwi\", \"mango\"]\n",
    "count = 0 \n",
    "\n",
    "for x in fruits:\n",
    "    print(x)\n",
    "    if \"a\" in x:\n",
    "        count = count + 1\n",
    "        \n",
    "print(count)"
   ]
  },
  {
   "cell_type": "code",
   "execution_count": 1,
   "id": "74fb5847-308e-4cae-869f-c1d6ed3a48fc",
   "metadata": {},
   "outputs": [
    {
     "name": "stdout",
     "output_type": "stream",
     "text": [
      "0\n",
      "1\n",
      "2\n",
      "3\n",
      "4\n",
      "5\n"
     ]
    }
   ],
   "source": [
    "for value in range(6):       #prints the value less than 6\n",
    "    print(value)"
   ]
  },
  {
   "cell_type": "code",
   "execution_count": 4,
   "id": "dd3e7f26-3710-4dcc-a22f-6a65858a6158",
   "metadata": {},
   "outputs": [
    {
     "name": "stdout",
     "output_type": "stream",
     "text": [
      "2\n",
      "4\n",
      "6\n",
      "8\n",
      "10\n",
      "12\n",
      "14\n",
      "16\n",
      "18\n"
     ]
    }
   ],
   "source": [
    "# In the above output you get a numbers incremented by 1, what if I want it to increment by 2\n",
    "\n",
    "for val in range(2,20,2):\n",
    "    print(val)"
   ]
  },
  {
   "cell_type": "code",
   "execution_count": 6,
   "id": "52ea044c-7ea3-42de-a80e-bf5ba0fdea5a",
   "metadata": {},
   "outputs": [
    {
     "name": "stdout",
     "output_type": "stream",
     "text": [
      "0\n",
      "1\n",
      "2\n",
      "3\n",
      "4\n",
      "5\n",
      "Finally finished!\n"
     ]
    }
   ],
   "source": [
    "# using else in for loop\n",
    "\n",
    "for v in range(6):\n",
    "    print(v)\n",
    "else:\n",
    "    print(\"Finally finished!\")"
   ]
  },
  {
   "cell_type": "code",
   "execution_count": null,
   "id": "91ceee28-0841-4af9-b426-a1a80219ae71",
   "metadata": {},
   "outputs": [],
   "source": []
  }
 ],
 "metadata": {
  "kernelspec": {
   "display_name": "Python 3",
   "language": "python",
   "name": "python3"
  },
  "language_info": {
   "codemirror_mode": {
    "name": "ipython",
    "version": 3
   },
   "file_extension": ".py",
   "mimetype": "text/x-python",
   "name": "python",
   "nbconvert_exporter": "python",
   "pygments_lexer": "ipython3",
   "version": "3.9.5"
  }
 },
 "nbformat": 4,
 "nbformat_minor": 5
}
